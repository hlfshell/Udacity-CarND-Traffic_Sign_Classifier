{
 "cells": [
  {
   "cell_type": "markdown",
   "metadata": {},
   "source": [
    "# Self-Driving Car Engineer Nanodegree\n",
    "\n",
    "## Deep Learning\n",
    "\n",
    "## Project: Build a Traffic Sign Recognition Classifier\n",
    "\n",
    "In this notebook, a template is provided for you to implement your functionality in stages, which is required to successfully complete this project. If additional code is required that cannot be included in the notebook, be sure that the Python code is successfully imported and included in your submission if necessary. \n",
    "\n",
    "> **Note**: Once you have completed all of the code implementations, you need to finalize your work by exporting the iPython Notebook as an HTML document. Before exporting the notebook to html, all of the code cells need to have been run so that reviewers can see the final implementation and output. You can then export the notebook by using the menu above and navigating to  \\n\",\n",
    "    \"**File -> Download as -> HTML (.html)**. Include the finished document along with this notebook as your submission. \n",
    "\n",
    "In addition to implementing code, there is a writeup to complete. The writeup should be completed in a separate file, which can be either a markdown file or a pdf document. There is a [write up template](https://github.com/udacity/CarND-Traffic-Sign-Classifier-Project/blob/master/writeup_template.md) that can be used to guide the writing process. Completing the code template and writeup template will cover all of the [rubric points](https://review.udacity.com/#!/rubrics/481/view) for this project.\n",
    "\n",
    "The [rubric](https://review.udacity.com/#!/rubrics/481/view) contains \"Stand Out Suggestions\" for enhancing the project beyond the minimum requirements. The stand out suggestions are optional. If you decide to pursue the \"stand out suggestions\", you can include the code in this Ipython notebook and also discuss the results in the writeup file.\n",
    "\n",
    "\n",
    ">**Note:** Code and Markdown cells can be executed using the **Shift + Enter** keyboard shortcut. In addition, Markdown cells can be edited by typically double-clicking the cell to enter edit mode."
   ]
  },
  {
   "cell_type": "markdown",
   "metadata": {},
   "source": [
    "---\n",
    "## Step 0: Load The Data"
   ]
  },
  {
   "cell_type": "code",
   "execution_count": 1,
   "metadata": {},
   "outputs": [],
   "source": [
    "# Load pickled data\n",
    "import pickle\n",
    "\n",
    "# TODO: Fill this in based on where you saved the training and testing data\n",
    "\n",
    "training_file = \"data/train.p\"\n",
    "validation_file= \"data/valid.p\"\n",
    "testing_file = \"data/test.p\"\n",
    "\n",
    "with open(training_file, mode='rb') as f:\n",
    "    train = pickle.load(f)\n",
    "with open(validation_file, mode='rb') as f:\n",
    "    valid = pickle.load(f)\n",
    "with open(testing_file, mode='rb') as f:\n",
    "    test = pickle.load(f)\n",
    "    \n",
    "X_train, y_train = train['features'], train['labels']\n",
    "X_valid, y_valid = valid['features'], valid['labels']\n",
    "X_test, y_test = test['features'], test['labels']"
   ]
  },
  {
   "cell_type": "markdown",
   "metadata": {},
   "source": [
    "---\n",
    "\n",
    "## Step 1: Dataset Summary & Exploration\n",
    "\n",
    "The pickled data is a dictionary with 4 key/value pairs:\n",
    "\n",
    "- `'features'` is a 4D array containing raw pixel data of the traffic sign images, (num examples, width, height, channels).\n",
    "- `'labels'` is a 1D array containing the label/class id of the traffic sign. The file `signnames.csv` contains id -> name mappings for each id.\n",
    "- `'sizes'` is a list containing tuples, (width, height) representing the original width and height the image.\n",
    "- `'coords'` is a list containing tuples, (x1, y1, x2, y2) representing coordinates of a bounding box around the sign in the image. **THESE COORDINATES ASSUME THE ORIGINAL IMAGE. THE PICKLED DATA CONTAINS RESIZED VERSIONS (32 by 32) OF THESE IMAGES**\n",
    "\n",
    "Complete the basic data summary below. Use python, numpy and/or pandas methods to calculate the data summary rather than hard coding the results. For example, the [pandas shape method](http://pandas.pydata.org/pandas-docs/stable/generated/pandas.DataFrame.shape.html) might be useful for calculating some of the summary results. "
   ]
  },
  {
   "cell_type": "markdown",
   "metadata": {},
   "source": [
    "### Provide a Basic Summary of the Data Set Using Python, Numpy and/or Pandas"
   ]
  },
  {
   "cell_type": "code",
   "execution_count": 2,
   "metadata": {},
   "outputs": [
    {
     "name": "stdout",
     "output_type": "stream",
     "text": [
      "Number of training examples = 34799\n",
      "Number of testing examples = 12630\n",
      "Image data shape = (32, 32, 3)\n",
      "Number of classes = 43\n"
     ]
    }
   ],
   "source": [
    "### Replace each question mark with the appropriate value. \n",
    "### Use python, pandas or numpy methods rather than hard coding the results\n",
    "\n",
    "# TODO: Number of training examples\n",
    "n_train = len(X_train)\n",
    "\n",
    "# TODO: Number of validation examples\n",
    "n_validation = len(X_valid)\n",
    "\n",
    "# TODO: Number of testing examples.\n",
    "n_test = len(X_test)\n",
    "\n",
    "# TODO: What's the shape of an traffic sign image?\n",
    "image_shape = X_train[0].shape\n",
    "\n",
    "# TODO: How many unique classes/labels there are in the dataset.\n",
    "n_classes = len(set(y_train))\n",
    "\n",
    "print(\"Number of training examples =\", n_train)\n",
    "print(\"Number of testing examples =\", n_test)\n",
    "print(\"Image data shape =\", image_shape)\n",
    "print(\"Number of classes =\", n_classes)"
   ]
  },
  {
   "cell_type": "markdown",
   "metadata": {},
   "source": [
    "### Include an exploratory visualization of the dataset"
   ]
  },
  {
   "cell_type": "markdown",
   "metadata": {},
   "source": [
    "Visualize the German Traffic Signs Dataset using the pickled file(s). This is open ended, suggestions include: plotting traffic sign images, plotting the count of each sign, etc. \n",
    "\n",
    "The [Matplotlib](http://matplotlib.org/) [examples](http://matplotlib.org/examples/index.html) and [gallery](http://matplotlib.org/gallery.html) pages are a great resource for doing visualizations in Python.\n",
    "\n",
    "**NOTE:** It's recommended you start with something simple first. If you wish to do more, come back to it after you've completed the rest of the sections. It can be interesting to look at the distribution of classes in the training, validation and test set. Is the distribution the same? Are there more examples of some classes than others?"
   ]
  },
  {
   "cell_type": "code",
   "execution_count": 3,
   "metadata": {},
   "outputs": [],
   "source": [
    "### Data exploration visualization code goes here.\n",
    "### Feel free to use as many code cells as needed.\n",
    "import matplotlib.pyplot as plt\n",
    "# Visualizations will be shown in the notebook.\n",
    "%matplotlib inline"
   ]
  },
  {
   "cell_type": "code",
   "execution_count": 4,
   "metadata": {},
   "outputs": [],
   "source": [
    "# Define each label\n",
    "sign_label = [\\\n",
    "    \"Speed limit (20km/h)\",\\\n",
    "    \"Speed limit (30km/h)\",\\\n",
    "    \"Speed limit (50km/h)\",\\\n",
    "    \"Speed limit (60km/h)\",\\\n",
    "    \"Speed limit (70km/h)\",\\\n",
    "    \"Speed limit (80km/h)\",\\\n",
    "    \"End of speed limit (80km/h)\",\\\n",
    "    \"Speed limit (100km/h)\",\\\n",
    "    \"Speed limit (120km/h)\",\\\n",
    "    \"No passing\",\\\n",
    "    \"No passing for vehicles over 3.5 metric tons\",\\\n",
    "    \"Right-of-way at the next intersection\",\\\n",
    "    \"Priority road\",\\\n",
    "    \"Yield\",\\\n",
    "    \"Stop\",\\\n",
    "    \"No vehicles\",\\\n",
    "    \"Vehicles over 3.5 metric tons prohibited\",\\\n",
    "    \"No entry\",\\\n",
    "    \"General caution\",\\\n",
    "    \"Dangerous curve to the left\",\\\n",
    "    \"Dangerous curve to the right\",\\\n",
    "    \"Double curve\",\\\n",
    "    \"Bumpy road\",\\\n",
    "    \"Slippery road\",\\\n",
    "    \"Road narrows on the right\",\\\n",
    "    \"Road work\",\\\n",
    "    \"Traffic signals\",\\\n",
    "    \"Pedestrians\",\\\n",
    "    \"Children crossing\",\\\n",
    "    \"Bicycles crossing\",\\\n",
    "    \"Beware of ice/snow\",\\\n",
    "    \"Wild animals crossing\",\\\n",
    "    \"End of all speed and passing limits\",\\\n",
    "    \"Turn right ahead\",\\\n",
    "    \"Turn left ahead\",\\\n",
    "    \"Ahead only\",\\\n",
    "    \"Go straight or right\",\\\n",
    "    \"Go straight or left\",\\\n",
    "    \"Keep right\",\\\n",
    "    \"Keep left\",\\\n",
    "    \"Roundabout mandatory\",\\\n",
    "    \"End of no passing\",\\\n",
    "    \"End of no passing by vehicles over 3.5 metric tons\"\\\n",
    "]"
   ]
  },
  {
   "cell_type": "code",
   "execution_count": 5,
   "metadata": {
    "scrolled": true
   },
   "outputs": [
    {
     "data": {
      "text/plain": [
       "<matplotlib.image.AxesImage at 0x7f1bd0a45278>"
      ]
     },
     "execution_count": 5,
     "metadata": {},
     "output_type": "execute_result"
    },
    {
     "data": {
      "image/png": "[encoded data removed]",
      "text/plain": [
       "<matplotlib.figure.Figure at 0x7f1bd0d2e6a0>"
      ]
     },
     "metadata": {},
     "output_type": "display_data"
    }
   ],
   "source": [
    "# Showing off a random image\n",
    "import random\n",
    "random_index = random.randint(0, len(X_train))\n",
    "image = X_train[random_index]\n",
    "label = y_train[random_index]\n",
    "plt.suptitle(\"Traffic Sign {0} - It is a {1}\".format(random_index, sign_label[label]))\n",
    "plt.imshow(image)"
   ]
  },
  {
   "cell_type": "code",
   "execution_count": 6,
   "metadata": {
    "scrolled": true
   },
   "outputs": [
    {
     "name": "stdout",
     "output_type": "stream",
     "text": [
      "Speed limit (20km/h) - Train: 180    Test: 60    Valid: 30\n",
      "Speed limit (30km/h) - Train: 1980    Test: 720    Valid: 240\n",
      "Speed limit (50km/h) - Train: 2010    Test: 750    Valid: 240\n",
      "Speed limit (60km/h) - Train: 1260    Test: 450    Valid: 150\n",
      "Speed limit (70km/h) - Train: 1770    Test: 660    Valid: 210\n",
      "Speed limit (80km/h) - Train: 1650    Test: 630    Valid: 210\n",
      "End of speed limit (80km/h) - Train: 360    Test: 150    Valid: 60\n",
      "Speed limit (100km/h) - Train: 1290    Test: 450    Valid: 150\n",
      "Speed limit (120km/h) - Train: 1260    Test: 450    Valid: 150\n",
      "No passing - Train: 1320    Test: 480    Valid: 150\n",
      "No passing for vehicles over 3.5 metric tons - Train: 1800    Test: 660    Valid: 210\n",
      "Right-of-way at the next intersection - Train: 1170    Test: 420    Valid: 150\n",
      "Priority road - Train: 1890    Test: 690    Valid: 210\n",
      "Yield - Train: 1920    Test: 720    Valid: 240\n",
      "Stop - Train: 690    Test: 270    Valid: 90\n",
      "No vehicles - Train: 540    Test: 210    Valid: 90\n",
      "Vehicles over 3.5 metric tons prohibited - Train: 360    Test: 150    Valid: 60\n",
      "No entry - Train: 990    Test: 360    Valid: 120\n",
      "General caution - Train: 1080    Test: 390    Valid: 120\n",
      "Dangerous curve to the left - Train: 180    Test: 60    Valid: 30\n",
      "Dangerous curve to the right - Train: 300    Test: 90    Valid: 60\n",
      "Double curve - Train: 270    Test: 90    Valid: 60\n",
      "Bumpy road - Train: 330    Test: 120    Valid: 60\n",
      "Slippery road - Train: 450    Test: 150    Valid: 60\n",
      "Road narrows on the right - Train: 240    Test: 90    Valid: 30\n",
      "Road work - Train: 1350    Test: 480    Valid: 150\n",
      "Traffic signals - Train: 540    Test: 180    Valid: 60\n",
      "Pedestrians - Train: 210    Test: 60    Valid: 30\n",
      "Children crossing - Train: 480    Test: 150    Valid: 60\n",
      "Bicycles crossing - Train: 240    Test: 90    Valid: 30\n",
      "Beware of ice/snow - Train: 390    Test: 150    Valid: 60\n",
      "Wild animals crossing - Train: 690    Test: 270    Valid: 90\n",
      "End of all speed and passing limits - Train: 210    Test: 60    Valid: 30\n",
      "Turn right ahead - Train: 599    Test: 210    Valid: 90\n",
      "Turn left ahead - Train: 360    Test: 120    Valid: 60\n",
      "Ahead only - Train: 1080    Test: 390    Valid: 120\n",
      "Go straight or right - Train: 330    Test: 120    Valid: 60\n",
      "Go straight or left - Train: 180    Test: 60    Valid: 30\n",
      "Keep right - Train: 1860    Test: 690    Valid: 210\n",
      "Keep left - Train: 270    Test: 90    Valid: 30\n",
      "Roundabout mandatory - Train: 300    Test: 90    Valid: 60\n",
      "End of no passing - Train: 210    Test: 60    Valid: 30\n",
      "End of no passing by vehicles over 3.5 metric tons - Train: 210    Test: 90    Valid: 30\n"
     ]
    }
   ],
   "source": [
    "#Class label distribution\n",
    "counter = {}\n",
    "for i in range(0, len(set(y_train))):\n",
    "    counter[i] = { \"train\": 0, \"test\": 0, \"valid\": 0 }\n",
    "\n",
    "for label in y_train:\n",
    "    counter[label]['train'] += 1\n",
    "    \n",
    "for label in y_test:\n",
    "    counter[label]['test'] += 1\n",
    "\n",
    "for label in y_valid:\n",
    "    counter[label]['valid'] += 1\n",
    "    \n",
    "for label in counter:\n",
    "    print(\"{0} - Train: {1}    Test: {2}    Valid: {3}\"\\\n",
    "          .format(sign_label[label], counter[label]['train'], counter[label]['test'],\\\n",
    "            counter[label]['valid']))"
   ]
  },
  {
   "cell_type": "markdown",
   "metadata": {},
   "source": [
    "----\n",
    "\n",
    "## Step 2: Design and Test a Model Architecture\n",
    "\n",
    "Design and implement a deep learning model that learns to recognize traffic signs. Train and test your model on the [German Traffic Sign Dataset](http://benchmark.ini.rub.de/?section=gtsrb&subsection=dataset).\n",
    "\n",
    "The LeNet-5 implementation shown in the [classroom](https://classroom.udacity.com/nanodegrees/nd013/parts/fbf77062-5703-404e-b60c-95b78b2f3f9e/modules/6df7ae49-c61c-4bb2-a23e-6527e69209ec/lessons/601ae704-1035-4287-8b11-e2c2716217ad/concepts/d4aca031-508f-4e0b-b493-e7b706120f81) at the end of the CNN lesson is a solid starting point. You'll have to change the number of classes and possibly the preprocessing, but aside from that it's plug and play! \n",
    "\n",
    "With the LeNet-5 solution from the lecture, you should expect a validation set accuracy of about 0.89. To meet specifications, the validation set accuracy will need to be at least 0.93. It is possible to get an even higher accuracy, but 0.93 is the minimum for a successful project submission. \n",
    "\n",
    "There are various aspects to consider when thinking about this problem:\n",
    "\n",
    "- Neural network architecture (is the network over or underfitting?)\n",
    "- Play around preprocessing techniques (normalization, rgb to grayscale, etc)\n",
    "- Number of examples per label (some have more than others).\n",
    "- Generate fake data.\n",
    "\n",
    "Here is an example of a [published baseline model on this problem](http://yann.lecun.com/exdb/publis/pdf/sermanet-ijcnn-11.pdf). It's not required to be familiar with the approach used in the paper but, it's good practice to try to read papers like these."
   ]
  },
  {
   "cell_type": "markdown",
   "metadata": {},
   "source": [
    "### Pre-process the Data Set (normalization, grayscale, etc.)"
   ]
  },
  {
   "cell_type": "markdown",
   "metadata": {},
   "source": [
    "Minimally, the image data should be normalized so that the data has mean zero and equal variance. For image data, `(pixel - 128)/ 128` is a quick way to approximately normalize the data and can be used in this project. \n",
    "\n",
    "Other pre-processing steps are optional. You can try different techniques to see if it improves performance. \n",
    "\n",
    "Use the code cell (or multiple code cells, if necessary) to implement the first step of your project."
   ]
  },
  {
   "cell_type": "code",
   "execution_count": 7,
   "metadata": {
    "scrolled": true
   },
   "outputs": [],
   "source": [
    "import cv2\n",
    "import numpy as np\n",
    "\n",
    "def normalize(img):\n",
    "    min = -0.5\n",
    "    max = 0.5\n",
    "    min_pixel = 0\n",
    "    max_pixel = 255\n",
    "    return min + ((img - min_pixel) * (max - min)) / (max_pixel - min_pixel)\n",
    "\n",
    "def grayscale(img):\n",
    "    gray = cv2.cvtColor(img, cv2.COLOR_BGR2GRAY)\n",
    "    return gray\n",
    "\n",
    "def reshape(dataset):\n",
    "    return np.reshape(dataset, (len(dataset), 32, 32, 3))\n",
    "\n",
    "results = []\n",
    "for index, image in enumerate(X_train):\n",
    "#     gray = grayscale(image)\n",
    "#     normal = normalize(gray)\n",
    "    normal = normalize(image)\n",
    "    results.append(normal)\n",
    "X_train = results\n",
    "X_train = reshape(X_train)\n",
    "\n",
    "results = []\n",
    "for index, image in enumerate(X_valid):\n",
    "#     gray = grayscale(image)\n",
    "#     normal = normalize(gray)\n",
    "    normal = normalize(image)\n",
    "    results.append(normal)\n",
    "X_valid = results\n",
    "X_valid = reshape(X_valid)\n",
    "\n",
    "results = []\n",
    "for index, image in enumerate(X_test):\n",
    "#     gray = grayscale(image)\n",
    "#     normal = normalize(gray)\n",
    "    normal = normalize(image)\n",
    "    results.append(normal)\n",
    "X_test = results\n",
    "X_test = reshape(X_test)"
   ]
  },
  {
   "cell_type": "code",
   "execution_count": 11,
   "metadata": {
    "scrolled": true
   },
   "outputs": [
    {
     "data": {
      "text/plain": [
       "<matplotlib.image.AxesImage at 0x7f1bb7033e48>"
      ]
     },
     "execution_count": 11,
     "metadata": {},
     "output_type": "execute_result"
    },
    {
     "data": {
      "image/png": "[encoded data removed]",
      "text/plain": [
       "<matplotlib.figure.Figure at 0x7f1bb706c518>"
      ]
     },
     "metadata": {},
     "output_type": "display_data"
    }
   ],
   "source": [
    "# Showing off a random image\n",
    "import random\n",
    "random_index = random.randint(0, len(X_train))\n",
    "image = X_train[random_index]\n",
    "label = y_train[random_index]\n",
    "plt.suptitle(\"Traffic Sign {0} - It is a {1}\".format(random_index, sign_label[label]))\n",
    "plt.imshow(image, cmap='gray')"
   ]
  },
  {
   "cell_type": "markdown",
   "metadata": {},
   "source": [
    "### Model Architecture"
   ]
  },
  {
   "cell_type": "code",
   "execution_count": 12,
   "metadata": {},
   "outputs": [],
   "source": [
    "import tensorflow as tf\n",
    "from tensorflow.contrib.layers import flatten\n",
    "\n",
    "def LeNet(x, dropout_keep_rate = 1.0):\n",
    "    \n",
    "    #Copying from LeNet lab\n",
    "    mu = 0\n",
    "    sigma = 0.1\n",
    "    \n",
    "    #Below is the Layer 1 when I had a grayscale input.\n",
    "#     # Layer 1: Convolutional Input = 32x32x1 Output = 28x28x6\n",
    "#     cn_1_W = tf.Variable(tf.truncated_normal(shape=(5, 5, 1, 6), mean=mu, stddev=sigma))\n",
    "#     cn_1_b = tf.Variable(tf.zeros(6))\n",
    "#     cn_1 = tf.nn.conv2d(x, cn_1_W, strides=[1, 1, 1, 1], padding='VALID') + cn_1_b\n",
    "\n",
    "    #Below is the Layer 1 when using 3 channel input\n",
    "    # Layer 1: Convolutional Input = 32x32x3 Output = 28x28x6\n",
    "    cn_1_W = tf.Variable(tf.truncated_normal(shape=(5, 5, 3, 6), mean=mu, stddev=sigma))\n",
    "    cn_1_b = tf.Variable(tf.zeros(6))\n",
    "    cn_1 = tf.nn.conv2d(x, cn_1_W, strides=[1, 1, 1, 1], padding='VALID') + cn_1_b\n",
    "\n",
    "    # Relu activation layer\n",
    "    cn_1 = tf.nn.relu(cn_1)\n",
    "\n",
    "    # Max pooling Input = 28x28x6 Output = 14x14x6\n",
    "    cn_1 = tf.nn.max_pool(cn_1, ksize=[1, 2, 2, 1], strides=[1, 2, 2, 1], padding='VALID')\n",
    "\n",
    "    # Layer 2: Convolutional Input = 14x14x6 Output = 10x10x16\n",
    "    cn_2_W = tf.Variable(tf.truncated_normal(shape=(5, 5, 6, 16), mean = mu, stddev = sigma))\n",
    "    cn_2_b = tf.Variable(tf.zeros(16))\n",
    "    cn_2   = tf.nn.conv2d(cn_1, cn_2_W, strides=[1, 1, 1, 1], padding='VALID') + cn_2_b\n",
    "    \n",
    "    # Relu activation Layer\n",
    "    cn_2 = tf.nn.relu(cn_2)\n",
    "\n",
    "    # Max Pooling Input = 10x10x16 Output = 5x5x16\n",
    "    cn_2 = tf.nn.max_pool(cn_2, ksize=[1, 2, 2, 1], strides=[1, 2, 2, 1], padding='VALID')\n",
    "\n",
    "    # Flatten Input = 5x5x16 Output = 400\n",
    "    flattened = flatten(cn_2)\n",
    "    \n",
    "    # Layer 3: Fully Connected Input = 400 Output = 120\n",
    "    fc1_W = tf.Variable(tf.truncated_normal(shape=(400, 120), mean = mu, stddev = sigma))\n",
    "    fc1_b = tf.Variable(tf.zeros(120))\n",
    "    fc1   = tf.matmul(flattened, fc1_W) + fc1_b\n",
    "    \n",
    "    # Relu activation layer\n",
    "    fc1 = tf.nn.relu(fc1)\n",
    "    \n",
    "    # Introduce dropout to prevent overfitting\n",
    "    fc1 = tf.nn.dropout(fc1, dropout_keep_rate)\n",
    "\n",
    "    # Layer 4: Fully Connected Input = 120 Output = 84\n",
    "    fc2_W  = tf.Variable(tf.truncated_normal(shape=(120, 84), mean = mu, stddev = sigma))\n",
    "    fc2_b  = tf.Variable(tf.zeros(84))\n",
    "    fc2    = tf.matmul(fc1, fc2_W) + fc2_b\n",
    "    \n",
    "    # Relu activation layer\n",
    "    fc2 = tf.nn.relu(fc2)\n",
    "    \n",
    "    # More dropout to prevent overfitting\n",
    "    fc2 = tf.nn.dropout(fc2, dropout_keep_rate)\n",
    "\n",
    "    # Layer 5: Fully Connected Input = 84 Output = 43\n",
    "    fc3_W  = tf.Variable(tf.truncated_normal(shape=(84, 43), mean = mu, stddev = sigma))\n",
    "    fc3_b  = tf.Variable(tf.zeros(43))\n",
    "    results = tf.matmul(fc2, fc3_W) + fc3_b\n",
    "    \n",
    "    return results"
   ]
  },
  {
   "cell_type": "code",
   "execution_count": 13,
   "metadata": {},
   "outputs": [],
   "source": [
    "#x is a placeholder for a batch of input images\n",
    "x = tf.placeholder(tf.float32, (None, 32, 32, 3))\n",
    "\n",
    "#y is a placeholder for a batch of output labels\n",
    "y = tf.placeholder(tf.int32, (None))\n",
    "\n",
    "#dropout_keep_rate is a placeholder for the keep rate - with a default value of 1.0 (no dropout)\n",
    "dropout_keep_rate = tf.placeholder_with_default(1.0, shape=())\n",
    "\n",
    "#one_hot is the one hot encoded values of y\n",
    "one_hot_y = tf.one_hot(y, 43)"
   ]
  },
  {
   "cell_type": "markdown",
   "metadata": {},
   "source": [
    "### Train, Validate and Test the Model"
   ]
  },
  {
   "cell_type": "markdown",
   "metadata": {},
   "source": [
    "A validation set can be used to assess how well the model is performing. A low accuracy on the training and validation\n",
    "sets imply underfitting. A high accuracy on the training set but low accuracy on the validation set implies overfitting."
   ]
  },
  {
   "cell_type": "code",
   "execution_count": 14,
   "metadata": {},
   "outputs": [],
   "source": [
    "learning_rate = 0.001\n",
    "\n",
    "logits = LeNet(x, dropout_keep_rate)\n",
    "cross_entropy = tf.nn.softmax_cross_entropy_with_logits(labels=one_hot_y, logits=logits)\n",
    "loss_operation = tf.reduce_mean(cross_entropy)\n",
    "optimizer = tf.train.AdamOptimizer(learning_rate=learning_rate)\n",
    "training_operation = optimizer.minimize(loss_operation)"
   ]
  },
  {
   "cell_type": "code",
   "execution_count": 15,
   "metadata": {},
   "outputs": [],
   "source": [
    "#Save \n",
    "correct_prediction = tf.equal(tf.argmax(logits, 1), tf.argmax(one_hot_y, 1))\n",
    "accuracy_operation = tf.reduce_mean(tf.cast(correct_prediction, tf.float32))\n",
    "saver = tf.train.Saver()\n",
    "\n",
    "def evaluate(X_data, y_data):\n",
    "    num_examples = len(X_data)\n",
    "    total_accuracy = 0\n",
    "    sess = tf.get_default_session()\n",
    "    for offset in range(0, num_examples, BATCH_SIZE):\n",
    "        batch_x, batch_y = X_data[offset:offset+BATCH_SIZE], y_data[offset:offset+BATCH_SIZE]\n",
    "        accuracy = sess.run(accuracy_operation, feed_dict={x: batch_x, y: batch_y, dropout_keep_rate: 1.0 })\n",
    "        total_accuracy += (accuracy * len(batch_x))\n",
    "    return total_accuracy / num_examples"
   ]
  },
  {
   "cell_type": "code",
   "execution_count": 16,
   "metadata": {},
   "outputs": [],
   "source": [
    "#Number of epochs and batch size to work with\n",
    "EPOCHS = 50\n",
    "BATCH_SIZE = 128\n",
    "DROPOUT_RATE = 0.3"
   ]
  },
  {
   "cell_type": "code",
   "execution_count": 17,
   "metadata": {
    "scrolled": true
   },
   "outputs": [
    {
     "name": "stdout",
     "output_type": "stream",
     "text": [
      "Training...\n",
      "\n",
      "EPOCH 1 ...\n",
      "Accuracy - Training: 0.435, Validation: 0.388, Test: 0.422\n",
      "\n",
      "EPOCH 2 ...\n",
      "Accuracy - Training: 0.567, Validation: 0.511, Test: 0.542\n",
      "\n",
      "EPOCH 3 ...\n",
      "Accuracy - Training: 0.669, Validation: 0.618, Test: 0.652\n",
      "\n",
      "EPOCH 4 ...\n",
      "Accuracy - Training: 0.738, Validation: 0.695, Test: 0.722\n",
      "\n",
      "EPOCH 5 ...\n",
      "Accuracy - Training: 0.775, Validation: 0.730, Test: 0.743\n",
      "\n",
      "EPOCH 6 ...\n",
      "Accuracy - Training: 0.812, Validation: 0.748, Test: 0.778\n",
      "\n",
      "EPOCH 7 ...\n",
      "Accuracy - Training: 0.828, Validation: 0.772, Test: 0.797\n",
      "\n",
      "EPOCH 8 ...\n",
      "Accuracy - Training: 0.857, Validation: 0.801, Test: 0.813\n",
      "\n",
      "EPOCH 9 ...\n",
      "Accuracy - Training: 0.864, Validation: 0.803, Test: 0.823\n",
      "\n",
      "EPOCH 10 ...\n",
      "Accuracy - Training: 0.891, Validation: 0.834, Test: 0.843\n",
      "\n",
      "EPOCH 11 ...\n",
      "Accuracy - Training: 0.897, Validation: 0.835, Test: 0.851\n",
      "\n",
      "EPOCH 12 ...\n",
      "Accuracy - Training: 0.913, Validation: 0.850, Test: 0.861\n",
      "\n",
      "EPOCH 13 ...\n",
      "Accuracy - Training: 0.913, Validation: 0.858, Test: 0.857\n",
      "\n",
      "EPOCH 14 ...\n",
      "Accuracy - Training: 0.917, Validation: 0.862, Test: 0.861\n",
      "\n",
      "EPOCH 15 ...\n",
      "Accuracy - Training: 0.922, Validation: 0.861, Test: 0.863\n",
      "\n",
      "EPOCH 16 ...\n",
      "Accuracy - Training: 0.923, Validation: 0.871, Test: 0.864\n",
      "\n",
      "EPOCH 17 ...\n",
      "Accuracy - Training: 0.930, Validation: 0.879, Test: 0.874\n",
      "\n",
      "EPOCH 18 ...\n",
      "Accuracy - Training: 0.935, Validation: 0.877, Test: 0.876\n",
      "\n",
      "EPOCH 19 ...\n",
      "Accuracy - Training: 0.937, Validation: 0.885, Test: 0.880\n",
      "\n",
      "EPOCH 20 ...\n",
      "Accuracy - Training: 0.934, Validation: 0.882, Test: 0.876\n",
      "\n",
      "EPOCH 21 ...\n",
      "Accuracy - Training: 0.939, Validation: 0.891, Test: 0.883\n",
      "\n",
      "EPOCH 22 ...\n",
      "Accuracy - Training: 0.949, Validation: 0.902, Test: 0.893\n",
      "\n",
      "EPOCH 23 ...\n",
      "Accuracy - Training: 0.949, Validation: 0.895, Test: 0.890\n",
      "\n",
      "EPOCH 24 ...\n",
      "Accuracy - Training: 0.942, Validation: 0.880, Test: 0.881\n",
      "\n",
      "EPOCH 25 ...\n",
      "Accuracy - Training: 0.949, Validation: 0.896, Test: 0.888\n",
      "\n",
      "EPOCH 26 ...\n",
      "Accuracy - Training: 0.953, Validation: 0.901, Test: 0.895\n",
      "\n",
      "EPOCH 27 ...\n",
      "Accuracy - Training: 0.950, Validation: 0.899, Test: 0.890\n",
      "\n",
      "EPOCH 28 ...\n",
      "Accuracy - Training: 0.956, Validation: 0.905, Test: 0.897\n",
      "\n",
      "EPOCH 29 ...\n",
      "Accuracy - Training: 0.955, Validation: 0.905, Test: 0.894\n",
      "\n",
      "EPOCH 30 ...\n",
      "Accuracy - Training: 0.966, Validation: 0.912, Test: 0.901\n",
      "\n",
      "EPOCH 31 ...\n",
      "Accuracy - Training: 0.963, Validation: 0.914, Test: 0.897\n",
      "\n",
      "EPOCH 32 ...\n",
      "Accuracy - Training: 0.964, Validation: 0.907, Test: 0.902\n",
      "\n",
      "EPOCH 33 ...\n",
      "Accuracy - Training: 0.967, Validation: 0.916, Test: 0.904\n",
      "\n",
      "EPOCH 34 ...\n",
      "Accuracy - Training: 0.969, Validation: 0.914, Test: 0.900\n",
      "\n",
      "EPOCH 35 ...\n",
      "Accuracy - Training: 0.969, Validation: 0.912, Test: 0.902\n",
      "\n",
      "EPOCH 36 ...\n",
      "Accuracy - Training: 0.973, Validation: 0.919, Test: 0.905\n",
      "\n",
      "EPOCH 37 ...\n",
      "Accuracy - Training: 0.976, Validation: 0.925, Test: 0.915\n",
      "\n",
      "EPOCH 38 ...\n",
      "Accuracy - Training: 0.972, Validation: 0.922, Test: 0.902\n",
      "\n",
      "EPOCH 39 ...\n",
      "Accuracy - Training: 0.973, Validation: 0.925, Test: 0.906\n",
      "\n",
      "EPOCH 40 ...\n",
      "Accuracy - Training: 0.973, Validation: 0.916, Test: 0.902\n",
      "\n",
      "EPOCH 41 ...\n",
      "Accuracy - Training: 0.981, Validation: 0.928, Test: 0.915\n",
      "\n",
      "EPOCH 42 ...\n",
      "Accuracy - Training: 0.979, Validation: 0.929, Test: 0.910\n",
      "\n",
      "EPOCH 43 ...\n",
      "Accuracy - Training: 0.982, Validation: 0.932, Test: 0.915\n",
      "\n",
      "EPOCH 44 ...\n",
      "Accuracy - Training: 0.977, Validation: 0.922, Test: 0.912\n",
      "\n",
      "EPOCH 45 ...\n",
      "Accuracy - Training: 0.983, Validation: 0.927, Test: 0.911\n",
      "\n",
      "EPOCH 46 ...\n",
      "Accuracy - Training: 0.979, Validation: 0.926, Test: 0.911\n",
      "\n",
      "EPOCH 47 ...\n",
      "Accuracy - Training: 0.982, Validation: 0.933, Test: 0.917\n",
      "\n",
      "EPOCH 48 ...\n",
      "Accuracy - Training: 0.985, Validation: 0.928, Test: 0.915\n",
      "\n",
      "EPOCH 49 ...\n",
      "Accuracy - Training: 0.987, Validation: 0.927, Test: 0.919\n",
      "\n",
      "EPOCH 50 ...\n",
      "Accuracy - Training: 0.984, Validation: 0.938, Test: 0.917\n",
      "\n",
      "Model saved\n"
     ]
    }
   ],
   "source": [
    "from sklearn.utils import shuffle\n",
    "\n",
    "#Training the model\n",
    "with tf.Session() as sess:\n",
    "    sess.run(tf.global_variables_initializer())\n",
    "    \n",
    "    examples_count = len(X_train)\n",
    "    \n",
    "    print(\"Training...\")\n",
    "    print()\n",
    "    for i in range(EPOCHS):\n",
    "        #Mix up the training set each epoch!\n",
    "        X_train, y_train = shuffle(X_train, y_train)\n",
    "        \n",
    "        #For each batch, run tensorflow on it\n",
    "        for offset in range(0, examples_count, BATCH_SIZE):\n",
    "            #Grab your current batch\n",
    "            end = offset + BATCH_SIZE\n",
    "            batch_x, batch_y = X_train[offset:end], y_train[offset:end]\n",
    "\n",
    "            #Run on batch\n",
    "            sess.run(training_operation, feed_dict={x: batch_x, y: batch_y, dropout_keep_rate: DROPOUT_RATE})\n",
    "            \n",
    "        #Calculate validation accuracy\n",
    "        train_accuracy = evaluate(X_train, y_train)\n",
    "        validation_accuracy = evaluate(X_valid, y_valid)\n",
    "        test_accuracy = evaluate(X_test, y_test)\n",
    "        \n",
    "        #Print\n",
    "        print(\"EPOCH {} ...\".format(i+1))\n",
    "        print('Accuracy - Training: {:.3f}, Validation: {:.3f}, Test: {:.3f}'\\\n",
    "                .format(train_accuracy, validation_accuracy, test_accuracy))\n",
    "        print()\n",
    "        \n",
    "    saver.save(sess, './lenet_traffic_sign')\n",
    "    print(\"Model saved\")"
   ]
  },
  {
   "cell_type": "markdown",
   "metadata": {},
   "source": [
    "---\n",
    "\n",
    "## Step 3: Test a Model on New Images\n",
    "\n",
    "To give yourself more insight into how your model is working, download at least five pictures of German traffic signs from the web and use your model to predict the traffic sign type.\n",
    "\n",
    "You may find `signnames.csv` useful as it contains mappings from the class id (integer) to the actual sign name."
   ]
  },
  {
   "cell_type": "markdown",
   "metadata": {},
   "source": [
    "### Load and Output the Images"
   ]
  },
  {
   "cell_type": "code",
   "execution_count": 29,
   "metadata": {
    "scrolled": true
   },
   "outputs": [
    {
     "data": {
      "image/png": "[encoded data removed]",
      "text/plain": [
       "<matplotlib.figure.Figure at 0x7f1bb6b47a20>"
      ]
     },
     "metadata": {},
     "output_type": "display_data"
    },
    {
     "data": {
      "image/png": "[encoded data removed]",
      "text/plain": [
       "<matplotlib.figure.Figure at 0x7f1bb6c48128>"
      ]
     },
     "metadata": {},
     "output_type": "display_data"
    },
    {
     "data": {
      "image/png": "[encoded data removed]",
      "text/plain": [
       "<matplotlib.figure.Figure at 0x7f1bb6e680b8>"
      ]
     },
     "metadata": {},
     "output_type": "display_data"
    },
    {
     "data": {
      "image/png": "[encoded data removed]",
      "text/plain": [
       "<matplotlib.figure.Figure at 0x7f1bb6c85ba8>"
      ]
     },
     "metadata": {},
     "output_type": "display_data"
    },
    {
     "data": {
      "image/png": "[encoded data removed]",
      "text/plain": [
       "<matplotlib.figure.Figure at 0x7f1bb6c4af28>"
      ]
     },
     "metadata": {},
     "output_type": "display_data"
    }
   ],
   "source": [
    "import numpy as np\n",
    "import cv2\n",
    "import glob\n",
    "import matplotlib.image as mpimg\n",
    "\n",
    "X_evaluate = []\n",
    "for i in range(0, 5):\n",
    "    img = cv2.imread(\"./evaluation-signs/{0}.jpg\".format(i))\n",
    "    #Open CV reads BGR - we need to split image data and return to RGB\n",
    "    b,g,r = cv2.split(img)\n",
    "    img = cv2.merge([r,g,b])\n",
    "    #resize the image to 32 x 32\n",
    "    img = cv2.resize(img, (32, 32), interpolation=cv2.INTER_AREA)\n",
    "    X_evaluate.append(img)\n",
    "    \n",
    "y_evaluate = [33, 25, 12, 14, 17] #Manually done\n",
    "\n",
    "for image in X_evaluate:\n",
    "    plt.figure()\n",
    "    plt.imshow(image)"
   ]
  },
  {
   "cell_type": "markdown",
   "metadata": {},
   "source": [
    "## Predict the Sign Type for Each Image"
   ]
  },
  {
   "cell_type": "code",
   "execution_count": 30,
   "metadata": {},
   "outputs": [
    {
     "data": {
      "image/png": "[encoded data removed]",
      "text/plain": [
       "<matplotlib.figure.Figure at 0x7f1bb6b790b8>"
      ]
     },
     "metadata": {},
     "output_type": "display_data"
    },
    {
     "data": {
      "image/png": "[encoded data removed]",
      "text/plain": [
       "<matplotlib.figure.Figure at 0x7f1bb6e37a58>"
      ]
     },
     "metadata": {},
     "output_type": "display_data"
    },
    {
     "data": {
      "image/png": "[encoded data removed]",
      "text/plain": [
       "<matplotlib.figure.Figure at 0x7f1bb6d4f6a0>"
      ]
     },
     "metadata": {},
     "output_type": "display_data"
    },
    {
     "data": {
      "image/png": "[encoded data removed]",
      "text/plain": [
       "<matplotlib.figure.Figure at 0x7f1bb6ba5eb8>"
      ]
     },
     "metadata": {},
     "output_type": "display_data"
    },
    {
     "data": {
      "image/png": "[encoded data removed]",
      "text/plain": [
       "<matplotlib.figure.Figure at 0x7f1bb6f5ee80>"
      ]
     },
     "metadata": {},
     "output_type": "display_data"
    }
   ],
   "source": [
    "# First, we need to normalize all images like we did to training/validation/testing\n",
    "\n",
    "results = []\n",
    "for index, image in enumerate(X_evaluate):\n",
    "#     gray = grayscale(image)\n",
    "#     normal = normalize(gray)\n",
    "    normal = normalize(image)\n",
    "    results.append(normal)\n",
    "X_evaluate = results\n",
    "X_evaluate = reshape(X_evaluate)\n",
    "\n",
    "for image in X_evaluate:\n",
    "    plt.figure()\n",
    "    plt.imshow(image)"
   ]
  },
  {
   "cell_type": "code",
   "execution_count": 31,
   "metadata": {
    "scrolled": true
   },
   "outputs": [
    {
     "name": "stdout",
     "output_type": "stream",
     "text": [
      "INFO:tensorflow:Restoring parameters from ./lenet_traffic_sign\n",
      "Results: [33 29 12 14 17]\n",
      "Expected: [33, 25, 12, 14, 17]\n",
      "Accuracy: 0.8\n"
     ]
    }
   ],
   "source": [
    "# Then we can evaluate on each item\n",
    "\n",
    "with tf.Session() as sess:\n",
    "    saver.restore(sess, './lenet_traffic_sign')\n",
    "    signs_classes = sess.run(tf.argmax(logits, 1), feed_dict={ x: X_evaluate })\n",
    "    \n",
    "print(\"Results:\", signs_classes)\n",
    "print(\"Expected:\", y_evaluate)\n",
    "\n",
    "accuracy = 0\n",
    "for index, result in enumerate(signs_classes):\n",
    "    if result == y_evaluate[index]:\n",
    "        accuracy += 0.2\n",
    "        \n",
    "print(\"Accuracy:\", accuracy)"
   ]
  },
  {
   "cell_type": "markdown",
   "metadata": {},
   "source": [
    "### Output Top 5 Softmax Probabilities For Each Image Found on the Web"
   ]
  },
  {
   "cell_type": "markdown",
   "metadata": {},
   "source": [
    "For each of the new images, print out the model's softmax probabilities to show the **certainty** of the model's predictions (limit the output to the top 5 probabilities for each image). [`tf.nn.top_k`](https://www.tensorflow.org/versions/r0.12/api_docs/python/nn.html#top_k) could prove helpful here. \n",
    "\n",
    "The example below demonstrates how tf.nn.top_k can be used to find the top k predictions for each image.\n",
    "\n",
    "`tf.nn.top_k` will return the values and indices (class ids) of the top k predictions. So if k=3, for each sign, it'll return the 3 largest probabilities (out of a possible 43) and the correspoding class ids.\n",
    "\n",
    "Take this numpy array as an example. The values in the array represent predictions. The array contains softmax probabilities for five candidate images with six possible classes. `tf.nn.top_k` is used to choose the three classes with the highest probability:\n",
    "\n",
    "```\n",
    "# (5, 6) array\n",
    "a = np.array([[ 0.24879643,  0.07032244,  0.12641572,  0.34763842,  0.07893497,\n",
    "         0.12789202],\n",
    "       [ 0.28086119,  0.27569815,  0.08594638,  0.0178669 ,  0.18063401,\n",
    "         0.15899337],\n",
    "       [ 0.26076848,  0.23664738,  0.08020603,  0.07001922,  0.1134371 ,\n",
    "         0.23892179],\n",
    "       [ 0.11943333,  0.29198961,  0.02605103,  0.26234032,  0.1351348 ,\n",
    "         0.16505091],\n",
    "       [ 0.09561176,  0.34396535,  0.0643941 ,  0.16240774,  0.24206137,\n",
    "         0.09155967]])\n",
    "```\n",
    "\n",
    "Running it through `sess.run(tf.nn.top_k(tf.constant(a), k=3))` produces:\n",
    "\n",
    "```\n",
    "TopKV2(values=array([[ 0.34763842,  0.24879643,  0.12789202],\n",
    "       [ 0.28086119,  0.27569815,  0.18063401],\n",
    "       [ 0.26076848,  0.23892179,  0.23664738],\n",
    "       [ 0.29198961,  0.26234032,  0.16505091],\n",
    "       [ 0.34396535,  0.24206137,  0.16240774]]), indices=array([[3, 0, 5],\n",
    "       [0, 1, 4],\n",
    "       [0, 5, 1],\n",
    "       [1, 3, 5],\n",
    "       [1, 4, 3]], dtype=int32))\n",
    "```\n",
    "\n",
    "Looking just at the first row we get `[ 0.34763842,  0.24879643,  0.12789202]`, you can confirm these are the 3 largest probabilities in `a`. You'll also notice `[3, 0, 5]` are the corresponding indices."
   ]
  },
  {
   "cell_type": "code",
   "execution_count": 46,
   "metadata": {},
   "outputs": [
    {
     "name": "stdout",
     "output_type": "stream",
     "text": [
      "INFO:tensorflow:Restoring parameters from ./lenet_traffic_sign\n",
      "TopKV2(values=array([[  5.81652582e-01,   1.34661511e-01,   1.30968660e-01,\n",
      "          6.87494799e-02,   4.23681363e-02],\n",
      "       [  9.23692942e-01,   2.86690965e-02,   2.40661483e-02,\n",
      "          1.23625109e-02,   7.10826972e-03],\n",
      "       [  1.00000000e+00,   6.36693002e-20,   9.15469136e-25,\n",
      "          7.53270567e-27,   7.53298898e-28],\n",
      "       [  1.00000000e+00,   2.98304919e-13,   2.09091587e-15,\n",
      "          1.42281484e-17,   1.71903920e-18],\n",
      "       [  9.99974489e-01,   2.54866172e-05,   4.77354464e-14,\n",
      "          1.65435523e-23,   4.18407125e-27]], dtype=float32), indices=array([[33, 37, 40, 39, 34],\n",
      "       [29, 22, 25, 26, 30],\n",
      "       [12, 10, 35, 26, 42],\n",
      "       [14, 15, 13, 10, 17],\n",
      "       [17, 14, 26, 10, 12]], dtype=int32))\n",
      "\n",
      "==========================\n",
      "Is a Turn right ahead\n",
      "Was identified as a Turn right ahead\n",
      "==========================\n",
      "Highest ranking 5:\n",
      "0 - Turn right ahead at probability 0.5816525816917419\n",
      "1 - Go straight or left at probability 0.1346615105867386\n",
      "2 - Roundabout mandatory at probability 0.13096866011619568\n",
      "3 - Keep left at probability 0.06874947994947433\n",
      "4 - Turn left ahead at probability 0.04236813634634018\n",
      "==========================\n",
      "\n",
      "==========================\n",
      "Is a Road work\n",
      "Was identified as a Bicycles crossing\n",
      "==========================\n",
      "Highest ranking 5:\n",
      "0 - Bicycles crossing at probability 0.9236929416656494\n",
      "1 - Bumpy road at probability 0.028669096529483795\n",
      "2 - Road work at probability 0.024066148325800896\n",
      "3 - Traffic signals at probability 0.012362510897219181\n",
      "4 - Beware of ice/snow at probability 0.007108269724994898\n",
      "==========================\n",
      "\n",
      "==========================\n",
      "Is a Priority road\n",
      "Was identified as a Priority road\n",
      "==========================\n",
      "Highest ranking 5:\n",
      "0 - Priority road at probability 1.0\n",
      "1 - No passing for vehicles over 3.5 metric tons at probability 6.366930020738269e-20\n",
      "2 - Ahead only at probability 9.154691362044581e-25\n",
      "3 - Traffic signals at probability 7.532705672579112e-27\n",
      "4 - End of no passing by vehicles over 3.5 metric tons at probability 7.5329889768739315e-28\n",
      "==========================\n",
      "\n",
      "==========================\n",
      "Is a Stop\n",
      "Was identified as a Stop\n",
      "==========================\n",
      "Highest ranking 5:\n",
      "0 - Stop at probability 1.0\n",
      "1 - No vehicles at probability 2.983049191777193e-13\n",
      "2 - Yield at probability 2.090915865132054e-15\n",
      "3 - No passing for vehicles over 3.5 metric tons at probability 1.4228148428067417e-17\n",
      "4 - No entry at probability 1.7190392009846126e-18\n",
      "==========================\n",
      "\n",
      "==========================\n",
      "Is a No entry\n",
      "Was identified as a No entry\n",
      "==========================\n",
      "Highest ranking 5:\n",
      "0 - No entry at probability 0.9999744892120361\n",
      "1 - Stop at probability 2.548661723267287e-05\n",
      "2 - Traffic signals at probability 4.7735446373703763e-14\n",
      "3 - No passing for vehicles over 3.5 metric tons at probability 1.6543552297631757e-23\n",
      "4 - Priority road at probability 4.1840712486016036e-27\n",
      "==========================\n",
      "\n"
     ]
    }
   ],
   "source": [
    "### Print out the top five softmax probabilities for the predictions on the German traffic sign images found on the web. \n",
    "\n",
    "with tf.Session() as sess:\n",
    "    saver.restore(sess, './lenet_traffic_sign')\n",
    "    probabilities = sess.run(tf.nn.softmax(logits), feed_dict={x: X_evaluate, dropout_keep_rate: 1.0})\n",
    "    top_5 = tf.nn.top_k(probabilities, k=5)\n",
    "    top_5_probs = sess.run(top_5)\n",
    "    \n",
    "print(top_5_probs)\n",
    "\n",
    "print()\n",
    "    \n",
    "for index, image in enumerate(X_evaluate):\n",
    "    print(\"==========================\")\n",
    "    print(\"Is a {0}\".format(sign_label[y_evaluate[index]]))\n",
    "    print(\"Was identified as a {0}\".format(sign_label[signs_classes[index]]))\n",
    "    print(\"==========================\")\n",
    "    print(\"Highest ranking 5:\")\n",
    "    for i, prob in enumerate(top_5_probs[0][index]):\n",
    "        print(\"{0} - {1} at probability {2}\".format(i, sign_label[top_5_probs[1][index][i]], top_5_probs[0][index][i]))\n",
    "    print(\"==========================\")\n",
    "    print()"
   ]
  },
  {
   "cell_type": "markdown",
   "metadata": {},
   "source": [
    "### Project Writeup\n",
    "\n",
    "This project's writeup file is located at WRITEUP.md."
   ]
  },
  {
   "cell_type": "markdown",
   "metadata": {},
   "source": [
    "---\n",
    "\n",
    "## Step 4 (Optional): Visualize the Neural Network's State with Test Images\n",
    "\n",
    " This Section is not required to complete but acts as an additional excersise for understaning the output of a neural network's weights. While neural networks can be a great learning device they are often referred to as a black box. We can understand what the weights of a neural network look like better by plotting their feature maps. After successfully training your neural network you can see what it's feature maps look like by plotting the output of the network's weight layers in response to a test stimuli image. From these plotted feature maps, it's possible to see what characteristics of an image the network finds interesting. For a sign, maybe the inner network feature maps react with high activation to the sign's boundary outline or to the contrast in the sign's painted symbol.\n",
    "\n",
    " Provided for you below is the function code that allows you to get the visualization output of any tensorflow weight layer you want. The inputs to the function should be a stimuli image, one used during training or a new one you provided, and then the tensorflow variable name that represents the layer's state during the training process, for instance if you wanted to see what the [LeNet lab's](https://classroom.udacity.com/nanodegrees/nd013/parts/fbf77062-5703-404e-b60c-95b78b2f3f9e/modules/6df7ae49-c61c-4bb2-a23e-6527e69209ec/lessons/601ae704-1035-4287-8b11-e2c2716217ad/concepts/d4aca031-508f-4e0b-b493-e7b706120f81) feature maps looked like for it's second convolutional layer you could enter conv2 as the tf_activation variable.\n",
    "\n",
    "For an example of what feature map outputs look like, check out NVIDIA's results in their paper [End-to-End Deep Learning for Self-Driving Cars](https://devblogs.nvidia.com/parallelforall/deep-learning-self-driving-cars/) in the section Visualization of internal CNN State. NVIDIA was able to show that their network's inner weights had high activations to road boundary lines by comparing feature maps from an image with a clear path to one without. Try experimenting with a similar test to show that your trained network's weights are looking for interesting features, whether it's looking at differences in feature maps from images with or without a sign, or even what feature maps look like in a trained network vs a completely untrained one on the same sign image.\n",
    "\n",
    "<figure>\n",
    " <img src=\"visualize_cnn.png\" width=\"380\" alt=\"Combined Image\" />\n",
    " <figcaption>\n",
    " <p></p> \n",
    " <p style=\"text-align: center;\"> Your output should look something like this (above)</p> \n",
    " </figcaption>\n",
    "</figure>\n",
    " <p></p> \n"
   ]
  },
  {
   "cell_type": "code",
   "execution_count": null,
   "metadata": {},
   "outputs": [],
   "source": [
    "### Visualize your network's feature maps here.\n",
    "### Feel free to use as many code cells as needed.\n",
    "\n",
    "# image_input: the test image being fed into the network to produce the feature maps\n",
    "# tf_activation: should be a tf variable name used during your training procedure that represents the calculated state of a specific weight layer\n",
    "# activation_min/max: can be used to view the activation contrast in more detail, by default matplot sets min and max to the actual min and max values of the output\n",
    "# plt_num: used to plot out multiple different weight feature map sets on the same block, just extend the plt number for each new feature map entry\n",
    "\n",
    "def outputFeatureMap(image_input, tf_activation, activation_min=-1, activation_max=-1 ,plt_num=1):\n",
    "    # Here make sure to preprocess your image_input in a way your network expects\n",
    "    # with size, normalization, ect if needed\n",
    "    # image_input =\n",
    "    # Note: x should be the same name as your network's tensorflow data placeholder variable\n",
    "    # If you get an error tf_activation is not defined it may be having trouble accessing the variable from inside a function\n",
    "    activation = tf_activation.eval(session=sess,feed_dict={x : image_input})\n",
    "    featuremaps = activation.shape[3]\n",
    "    plt.figure(plt_num, figsize=(15,15))\n",
    "    for featuremap in range(featuremaps):\n",
    "        plt.subplot(6,8, featuremap+1) # sets the number of feature maps to show on each row and column\n",
    "        plt.title('FeatureMap ' + str(featuremap)) # displays the feature map number\n",
    "        if activation_min != -1 & activation_max != -1:\n",
    "            plt.imshow(activation[0,:,:, featuremap], interpolation=\"nearest\", vmin =activation_min, vmax=activation_max, cmap=\"gray\")\n",
    "        elif activation_max != -1:\n",
    "            plt.imshow(activation[0,:,:, featuremap], interpolation=\"nearest\", vmax=activation_max, cmap=\"gray\")\n",
    "        elif activation_min !=-1:\n",
    "            plt.imshow(activation[0,:,:, featuremap], interpolation=\"nearest\", vmin=activation_min, cmap=\"gray\")\n",
    "        else:\n",
    "            plt.imshow(activation[0,:,:, featuremap], interpolation=\"nearest\", cmap=\"gray\")"
   ]
  }
 ],
 "metadata": {
  "anaconda-cloud": {},
  "kernelspec": {
   "display_name": "Python 3",
   "language": "python",
   "name": "python3"
  },
  "language_info": {
   "codemirror_mode": {
    "name": "ipython",
    "version": 3
   },
   "file_extension": ".py",
   "mimetype": "text/x-python",
   "name": "python",
   "nbconvert_exporter": "python",
   "pygments_lexer": "ipython3",
   "version": "3.5.2"
  },
  "widgets": {
   "state": {},
   "version": "1.1.2"
  }
 },
 "nbformat": 4,
 "nbformat_minor": 1
}
