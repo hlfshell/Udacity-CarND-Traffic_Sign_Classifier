{
 "cells": [
  {
   "cell_type": "markdown",
   "metadata": {},
   "source": [
    "# Self-Driving Car Engineer Nanodegree\n",
    "\n",
    "## Deep Learning\n",
    "\n",
    "## Project: Build a Traffic Sign Recognition Classifier\n",
    "\n",
    "In this notebook, a template is provided for you to implement your functionality in stages, which is required to successfully complete this project. If additional code is required that cannot be included in the notebook, be sure that the Python code is successfully imported and included in your submission if necessary. \n",
    "\n",
    "> **Note**: Once you have completed all of the code implementations, you need to finalize your work by exporting the iPython Notebook as an HTML document. Before exporting the notebook to html, all of the code cells need to have been run so that reviewers can see the final implementation and output. You can then export the notebook by using the menu above and navigating to  \\n\",\n",
    "    \"**File -> Download as -> HTML (.html)**. Include the finished document along with this notebook as your submission. \n",
    "\n",
    "In addition to implementing code, there is a writeup to complete. The writeup should be completed in a separate file, which can be either a markdown file or a pdf document. There is a [write up template](https://github.com/udacity/CarND-Traffic-Sign-Classifier-Project/blob/master/writeup_template.md) that can be used to guide the writing process. Completing the code template and writeup template will cover all of the [rubric points](https://review.udacity.com/#!/rubrics/481/view) for this project.\n",
    "\n",
    "The [rubric](https://review.udacity.com/#!/rubrics/481/view) contains \"Stand Out Suggestions\" for enhancing the project beyond the minimum requirements. The stand out suggestions are optional. If you decide to pursue the \"stand out suggestions\", you can include the code in this Ipython notebook and also discuss the results in the writeup file.\n",
    "\n",
    "\n",
    ">**Note:** Code and Markdown cells can be executed using the **Shift + Enter** keyboard shortcut. In addition, Markdown cells can be edited by typically double-clicking the cell to enter edit mode."
   ]
  },
  {
   "cell_type": "markdown",
   "metadata": {},
   "source": [
    "---\n",
    "## Step 0: Load The Data"
   ]
  },
  {
   "cell_type": "code",
   "execution_count": 1,
   "metadata": {},
   "outputs": [],
   "source": [
    "# Load pickled data\n",
    "import pickle\n",
    "\n",
    "# TODO: Fill this in based on where you saved the training and testing data\n",
    "\n",
    "training_file = \"data/train.p\"\n",
    "validation_file= \"data/valid.p\"\n",
    "testing_file = \"data/test.p\"\n",
    "\n",
    "with open(training_file, mode='rb') as f:\n",
    "    train = pickle.load(f)\n",
    "with open(validation_file, mode='rb') as f:\n",
    "    valid = pickle.load(f)\n",
    "with open(testing_file, mode='rb') as f:\n",
    "    test = pickle.load(f)\n",
    "    \n",
    "X_train, y_train = train['features'], train['labels']\n",
    "X_valid, y_valid = valid['features'], valid['labels']\n",
    "X_test, y_test = test['features'], test['labels']"
   ]
  },
  {
   "cell_type": "markdown",
   "metadata": {},
   "source": [
    "---\n",
    "\n",
    "## Step 1: Dataset Summary & Exploration\n",
    "\n",
    "The pickled data is a dictionary with 4 key/value pairs:\n",
    "\n",
    "- `'features'` is a 4D array containing raw pixel data of the traffic sign images, (num examples, width, height, channels).\n",
    "- `'labels'` is a 1D array containing the label/class id of the traffic sign. The file `signnames.csv` contains id -> name mappings for each id.\n",
    "- `'sizes'` is a list containing tuples, (width, height) representing the original width and height the image.\n",
    "- `'coords'` is a list containing tuples, (x1, y1, x2, y2) representing coordinates of a bounding box around the sign in the image. **THESE COORDINATES ASSUME THE ORIGINAL IMAGE. THE PICKLED DATA CONTAINS RESIZED VERSIONS (32 by 32) OF THESE IMAGES**\n",
    "\n",
    "Complete the basic data summary below. Use python, numpy and/or pandas methods to calculate the data summary rather than hard coding the results. For example, the [pandas shape method](http://pandas.pydata.org/pandas-docs/stable/generated/pandas.DataFrame.shape.html) might be useful for calculating some of the summary results. "
   ]
  },
  {
   "cell_type": "markdown",
   "metadata": {},
   "source": [
    "### Provide a Basic Summary of the Data Set Using Python, Numpy and/or Pandas"
   ]
  },
  {
   "cell_type": "code",
   "execution_count": 2,
   "metadata": {},
   "outputs": [
    {
     "name": "stdout",
     "output_type": "stream",
     "text": [
      "Number of training examples = 34799\n",
      "Number of testing examples = 12630\n",
      "Image data shape = (32, 32, 3)\n",
      "Number of classes = 43\n"
     ]
    }
   ],
   "source": [
    "### Replace each question mark with the appropriate value. \n",
    "### Use python, pandas or numpy methods rather than hard coding the results\n",
    "\n",
    "# TODO: Number of training examples\n",
    "n_train = len(X_train)\n",
    "\n",
    "# TODO: Number of validation examples\n",
    "n_validation = len(X_valid)\n",
    "\n",
    "# TODO: Number of testing examples.\n",
    "n_test = len(X_test)\n",
    "\n",
    "# TODO: What's the shape of an traffic sign image?\n",
    "image_shape = X_train[0].shape\n",
    "\n",
    "# TODO: How many unique classes/labels there are in the dataset.\n",
    "n_classes = len(set(y_train))\n",
    "\n",
    "print(\"Number of training examples =\", n_train)\n",
    "print(\"Number of testing examples =\", n_test)\n",
    "print(\"Image data shape =\", image_shape)\n",
    "print(\"Number of classes =\", n_classes)"
   ]
  },
  {
   "cell_type": "markdown",
   "metadata": {},
   "source": [
    "### Include an exploratory visualization of the dataset"
   ]
  },
  {
   "cell_type": "markdown",
   "metadata": {},
   "source": [
    "Visualize the German Traffic Signs Dataset using the pickled file(s). This is open ended, suggestions include: plotting traffic sign images, plotting the count of each sign, etc. \n",
    "\n",
    "The [Matplotlib](http://matplotlib.org/) [examples](http://matplotlib.org/examples/index.html) and [gallery](http://matplotlib.org/gallery.html) pages are a great resource for doing visualizations in Python.\n",
    "\n",
    "**NOTE:** It's recommended you start with something simple first. If you wish to do more, come back to it after you've completed the rest of the sections. It can be interesting to look at the distribution of classes in the training, validation and test set. Is the distribution the same? Are there more examples of some classes than others?"
   ]
  },
  {
   "cell_type": "code",
   "execution_count": 3,
   "metadata": {},
   "outputs": [],
   "source": [
    "### Data exploration visualization code goes here.\n",
    "### Feel free to use as many code cells as needed.\n",
    "import matplotlib.pyplot as plt\n",
    "# Visualizations will be shown in the notebook.\n",
    "%matplotlib inline"
   ]
  },
  {
   "cell_type": "code",
   "execution_count": 4,
   "metadata": {},
   "outputs": [],
   "source": [
    "# Define each label\n",
    "sign_label = [\\\n",
    "    \"Speed limit (20km/h)\",\\\n",
    "    \"Speed limit (30km/h)\",\\\n",
    "    \"Speed limit (50km/h)\",\\\n",
    "    \"Speed limit (60km/h)\",\\\n",
    "    \"Speed limit (70km/h)\",\\\n",
    "    \"Speed limit (80km/h)\",\\\n",
    "    \"End of speed limit (80km/h)\",\\\n",
    "    \"Speed limit (100km/h)\",\\\n",
    "    \"Speed limit (120km/h)\",\\\n",
    "    \"No passing\",\\\n",
    "    \"No passing for vehicles over 3.5 metric tons\",\\\n",
    "    \"Right-of-way at the next intersection\",\\\n",
    "    \"Priority road\",\\\n",
    "    \"Yield\",\\\n",
    "    \"Stop\",\\\n",
    "    \"No vehicles\",\\\n",
    "    \"Vehicles over 3.5 metric tons prohibited\",\\\n",
    "    \"No entry\",\\\n",
    "    \"General caution\",\\\n",
    "    \"Dangerous curve to the left\",\\\n",
    "    \"Dangerous curve to the right\",\\\n",
    "    \"Double curve\",\\\n",
    "    \"Bumpy road\",\\\n",
    "    \"Slippery road\",\\\n",
    "    \"Road narrows on the right\",\\\n",
    "    \"Road work\",\\\n",
    "    \"Traffic signals\",\\\n",
    "    \"Pedestrians\",\\\n",
    "    \"Children crossing\",\\\n",
    "    \"Bicycles crossing\",\\\n",
    "    \"Beware of ice/snow\",\\\n",
    "    \"Wild animals crossing\",\\\n",
    "    \"End of all speed and passing limits\",\\\n",
    "    \"Turn right ahead\",\\\n",
    "    \"Turn left ahead\",\\\n",
    "    \"Ahead only\",\\\n",
    "    \"Go straight or right\",\\\n",
    "    \"Go straight or left\",\\\n",
    "    \"Keep right\",\\\n",
    "    \"Keep left\",\\\n",
    "    \"Roundabout mandatory\",\\\n",
    "    \"End of no passing\",\\\n",
    "    \"End of no passing by vehicles over 3.5 metric tons\"\\\n",
    "]"
   ]
  },
  {
   "cell_type": "code",
   "execution_count": 9,
   "metadata": {
    "scrolled": true
   },
   "outputs": [
    {
     "data": {
      "text/plain": [
       "<matplotlib.image.AxesImage at 0x7f81d2c79908>"
      ]
     },
     "execution_count": 9,
     "metadata": {},
     "output_type": "execute_result"
    },
    {
     "data": {
      "image/png": "[encoded data removed]",
      "text/plain": [
       "<matplotlib.figure.Figure at 0x7f81d2da7b00>"
      ]
     },
     "metadata": {},
     "output_type": "display_data"
    }
   ],
   "source": [
    "# Showing off a random image\n",
    "import random\n",
    "random_index = random.randint(0, len(X_train))\n",
    "image = X_train[random_index]\n",
    "label = y_train[random_index]\n",
    "plt.suptitle(\"Traffic Sign {0} - It is a {1}\".format(random_index, sign_label[label]))\n",
    "plt.imshow(image)"
   ]
  },
  {
   "cell_type": "code",
   "execution_count": 8,
   "metadata": {
    "scrolled": true
   },
   "outputs": [
    {
     "name": "stdout",
     "output_type": "stream",
     "text": [
      "Speed limit (20km/h) - Train: 180    Test: 60    Valid: 30\n",
      "Speed limit (30km/h) - Train: 1980    Test: 720    Valid: 240\n",
      "Speed limit (50km/h) - Train: 2010    Test: 750    Valid: 240\n",
      "Speed limit (60km/h) - Train: 1260    Test: 450    Valid: 150\n",
      "Speed limit (70km/h) - Train: 1770    Test: 660    Valid: 210\n",
      "Speed limit (80km/h) - Train: 1650    Test: 630    Valid: 210\n",
      "End of speed limit (80km/h) - Train: 360    Test: 150    Valid: 60\n",
      "Speed limit (100km/h) - Train: 1290    Test: 450    Valid: 150\n",
      "Speed limit (120km/h) - Train: 1260    Test: 450    Valid: 150\n",
      "No passing - Train: 1320    Test: 480    Valid: 150\n",
      "No passing for vehicles over 3.5 metric tons - Train: 1800    Test: 660    Valid: 210\n",
      "Right-of-way at the next intersection - Train: 1170    Test: 420    Valid: 150\n",
      "Priority road - Train: 1890    Test: 690    Valid: 210\n",
      "Yield - Train: 1920    Test: 720    Valid: 240\n",
      "Stop - Train: 690    Test: 270    Valid: 90\n",
      "No vehicles - Train: 540    Test: 210    Valid: 90\n",
      "Vehicles over 3.5 metric tons prohibited - Train: 360    Test: 150    Valid: 60\n",
      "No entry - Train: 990    Test: 360    Valid: 120\n",
      "General caution - Train: 1080    Test: 390    Valid: 120\n",
      "Dangerous curve to the left - Train: 180    Test: 60    Valid: 30\n",
      "Dangerous curve to the right - Train: 300    Test: 90    Valid: 60\n",
      "Double curve - Train: 270    Test: 90    Valid: 60\n",
      "Bumpy road - Train: 330    Test: 120    Valid: 60\n",
      "Slippery road - Train: 450    Test: 150    Valid: 60\n",
      "Road narrows on the right - Train: 240    Test: 90    Valid: 30\n",
      "Road work - Train: 1350    Test: 480    Valid: 150\n",
      "Traffic signals - Train: 540    Test: 180    Valid: 60\n",
      "Pedestrians - Train: 210    Test: 60    Valid: 30\n",
      "Children crossing - Train: 480    Test: 150    Valid: 60\n",
      "Bicycles crossing - Train: 240    Test: 90    Valid: 30\n",
      "Beware of ice/snow - Train: 390    Test: 150    Valid: 60\n",
      "Wild animals crossing - Train: 690    Test: 270    Valid: 90\n",
      "End of all speed and passing limits - Train: 210    Test: 60    Valid: 30\n",
      "Turn right ahead - Train: 599    Test: 210    Valid: 90\n",
      "Turn left ahead - Train: 360    Test: 120    Valid: 60\n",
      "Ahead only - Train: 1080    Test: 390    Valid: 120\n",
      "Go straight or right - Train: 330    Test: 120    Valid: 60\n",
      "Go straight or left - Train: 180    Test: 60    Valid: 30\n",
      "Keep right - Train: 1860    Test: 690    Valid: 210\n",
      "Keep left - Train: 270    Test: 90    Valid: 30\n",
      "Roundabout mandatory - Train: 300    Test: 90    Valid: 60\n",
      "End of no passing - Train: 210    Test: 60    Valid: 30\n",
      "End of no passing by vehicles over 3.5 metric tons - Train: 210    Test: 90    Valid: 30\n"
     ]
    }
   ],
   "source": [
    "#Class label distribution\n",
    "counter = {}\n",
    "for i in range(0, len(set(y_train))):\n",
    "    counter[i] = { \"train\": 0, \"test\": 0, \"valid\": 0 }\n",
    "\n",
    "for label in y_train:\n",
    "    counter[label]['train'] += 1\n",
    "    \n",
    "for label in y_test:\n",
    "    counter[label]['test'] += 1\n",
    "\n",
    "for label in y_valid:\n",
    "    counter[label]['valid'] += 1\n",
    "    \n",
    "for label in counter:\n",
    "    print(\"{0} - Train: {1}    Test: {2}    Valid: {3}\"\\\n",
    "          .format(sign_label[label], counter[label]['train'], counter[label]['test'],\\\n",
    "            counter[label]['valid']))"
   ]
  },
  {
   "cell_type": "markdown",
   "metadata": {},
   "source": [
    "----\n",
    "\n",
    "## Step 2: Design and Test a Model Architecture\n",
    "\n",
    "Design and implement a deep learning model that learns to recognize traffic signs. Train and test your model on the [German Traffic Sign Dataset](http://benchmark.ini.rub.de/?section=gtsrb&subsection=dataset).\n",
    "\n",
    "The LeNet-5 implementation shown in the [classroom](https://classroom.udacity.com/nanodegrees/nd013/parts/fbf77062-5703-404e-b60c-95b78b2f3f9e/modules/6df7ae49-c61c-4bb2-a23e-6527e69209ec/lessons/601ae704-1035-4287-8b11-e2c2716217ad/concepts/d4aca031-508f-4e0b-b493-e7b706120f81) at the end of the CNN lesson is a solid starting point. You'll have to change the number of classes and possibly the preprocessing, but aside from that it's plug and play! \n",
    "\n",
    "With the LeNet-5 solution from the lecture, you should expect a validation set accuracy of about 0.89. To meet specifications, the validation set accuracy will need to be at least 0.93. It is possible to get an even higher accuracy, but 0.93 is the minimum for a successful project submission. \n",
    "\n",
    "There are various aspects to consider when thinking about this problem:\n",
    "\n",
    "- Neural network architecture (is the network over or underfitting?)\n",
    "- Play around preprocessing techniques (normalization, rgb to grayscale, etc)\n",
    "- Number of examples per label (some have more than others).\n",
    "- Generate fake data.\n",
    "\n",
    "Here is an example of a [published baseline model on this problem](http://yann.lecun.com/exdb/publis/pdf/sermanet-ijcnn-11.pdf). It's not required to be familiar with the approach used in the paper but, it's good practice to try to read papers like these."
   ]
  },
  {
   "cell_type": "markdown",
   "metadata": {},
   "source": [
    "### Pre-process the Data Set (normalization, grayscale, etc.)"
   ]
  },
  {
   "cell_type": "markdown",
   "metadata": {},
   "source": [
    "Minimally, the image data should be normalized so that the data has mean zero and equal variance. For image data, `(pixel - 128)/ 128` is a quick way to approximately normalize the data and can be used in this project. \n",
    "\n",
    "Other pre-processing steps are optional. You can try different techniques to see if it improves performance. \n",
    "\n",
    "Use the code cell (or multiple code cells, if necessary) to implement the first step of your project."
   ]
  },
  {
   "cell_type": "code",
   "execution_count": 10,
   "metadata": {
    "scrolled": true
   },
   "outputs": [],
   "source": [
    "import cv2\n",
    "import numpy as np\n",
    "\n",
    "def normalize(img):\n",
    "    min = -0.5\n",
    "    max = 0.5\n",
    "    min_pixel = 0\n",
    "    max_pixel = 255\n",
    "    return min + ((img - min_pixel) * (max - min)) / (max_pixel - min_pixel)\n",
    "\n",
    "def grayscale(img):\n",
    "    gray = cv2.cvtColor(img, cv2.COLOR_BGR2GRAY)\n",
    "    return gray\n",
    "\n",
    "def reshape(dataset):\n",
    "    return np.reshape(dataset, (len(dataset), 32, 32, 3))\n",
    "\n",
    "results = []\n",
    "for index, image in enumerate(X_train):\n",
    "#     gray = grayscale(image)\n",
    "#     normal = normalize(gray)\n",
    "    normal = normalize(image)\n",
    "    results.append(normal)\n",
    "X_train = results\n",
    "X_train = reshape(X_train)\n",
    "\n",
    "results = []\n",
    "for index, image in enumerate(X_valid):\n",
    "#     gray = grayscale(image)\n",
    "#     normal = normalize(gray)\n",
    "    normal = normalize(image)\n",
    "    results.append(normal)\n",
    "X_valid = results\n",
    "X_valid = reshape(X_valid)\n",
    "\n",
    "results = []\n",
    "for index, image in enumerate(X_test):\n",
    "#     gray = grayscale(image)\n",
    "#     normal = normalize(gray)\n",
    "    normal = normalize(image)\n",
    "    results.append(normal)\n",
    "X_test = results\n",
    "X_test = reshape(X_test)"
   ]
  },
  {
   "cell_type": "code",
   "execution_count": 11,
   "metadata": {
    "scrolled": true
   },
   "outputs": [
    {
     "data": {
      "text/plain": [
       "<matplotlib.image.AxesImage at 0x7f81b93f2240>"
      ]
     },
     "execution_count": 11,
     "metadata": {},
     "output_type": "execute_result"
    },
    {
     "data": {
      "image/png": "[encoded data removed]",
      "text/plain": [
       "<matplotlib.figure.Figure at 0x7f81d2dc7c50>"
      ]
     },
     "metadata": {},
     "output_type": "display_data"
    }
   ],
   "source": [
    "# Showing off a random image\n",
    "import random\n",
    "random_index = random.randint(0, len(X_train))\n",
    "image = X_train[random_index]\n",
    "label = y_train[random_index]\n",
    "plt.suptitle(\"Traffic Sign {0} - It is a {1}\".format(random_index, sign_label[label]))\n",
    "plt.imshow(image, cmap='gray')"
   ]
  },
  {
   "cell_type": "markdown",
   "metadata": {},
   "source": [
    "### Model Architecture"
   ]
  },
  {
   "cell_type": "code",
   "execution_count": 19,
   "metadata": {},
   "outputs": [],
   "source": [
    "import tensorflow as tf\n",
    "from tensorflow.contrib.layers import flatten\n",
    "\n",
    "def LeNet(x, dropout_keep_rate = 1.0):\n",
    "    \n",
    "    #Copying from LeNet lab\n",
    "    mu = 0\n",
    "    sigma = 0.1\n",
    "    \n",
    "    #Below is the Layer 1 when I had a grayscale input.\n",
    "#     # Layer 1: Convolutional Input = 32x32x1 Output = 28x28x6\n",
    "#     cn_1_W = tf.Variable(tf.truncated_normal(shape=(5, 5, 1, 6), mean=mu, stddev=sigma))\n",
    "#     cn_1_b = tf.Variable(tf.zeros(6))\n",
    "#     cn_1 = tf.nn.conv2d(x, cn_1_W, strides=[1, 1, 1, 1], padding='VALID') + cn_1_b\n",
    "\n",
    "    #Below is the Layer 1 when using 3 channel input\n",
    "    # Layer 1: Convolutional Input = 32x32x3 Output = 28x28x6\n",
    "    cn_1_W = tf.Variable(tf.truncated_normal(shape=(5, 5, 3, 6), mean=mu, stddev=sigma))\n",
    "    cn_1_b = tf.Variable(tf.zeros(6))\n",
    "    cn_1 = tf.nn.conv2d(x, cn_1_W, strides=[1, 1, 1, 1], padding='VALID') + cn_1_b\n",
    "\n",
    "    # Relu activation layer\n",
    "    cn_1 = tf.nn.relu(cn_1)\n",
    "\n",
    "    # Max pooling Input = 28x28x6 Output = 14x14x6\n",
    "    cn_1 = tf.nn.max_pool(cn_1, ksize=[1, 2, 2, 1], strides=[1, 2, 2, 1], padding='VALID')\n",
    "\n",
    "    # Layer 2: Convolutional Input = 14x14x6 Output = 10x10x16\n",
    "    cn_2_W = tf.Variable(tf.truncated_normal(shape=(5, 5, 6, 16), mean = mu, stddev = sigma))\n",
    "    cn_2_b = tf.Variable(tf.zeros(16))\n",
    "    cn_2   = tf.nn.conv2d(cn_1, cn_2_W, strides=[1, 1, 1, 1], padding='VALID') + cn_2_b\n",
    "    \n",
    "    # Relu activation Layer\n",
    "    cn_2 = tf.nn.relu(cn_2)\n",
    "\n",
    "    # Max Pooling Input = 10x10x16 Output = 5x5x16\n",
    "    cn_2 = tf.nn.max_pool(cn_2, ksize=[1, 2, 2, 1], strides=[1, 2, 2, 1], padding='VALID')\n",
    "\n",
    "    # Flatten Input = 5x5x16 Output = 400\n",
    "    flattened = flatten(cn_2)\n",
    "    \n",
    "    # Layer 3: Fully Connected Input = 400 Output = 120\n",
    "    fc1_W = tf.Variable(tf.truncated_normal(shape=(400, 120), mean = mu, stddev = sigma))\n",
    "    fc1_b = tf.Variable(tf.zeros(120))\n",
    "    fc1   = tf.matmul(flattened, fc1_W) + fc1_b\n",
    "    \n",
    "    # Relu activation layer\n",
    "    fc1 = tf.nn.relu(fc1)\n",
    "    \n",
    "    # Introduce dropout to prevent overfitting\n",
    "    fc1 = tf.nn.dropout(fc1, dropout_keep_rate)\n",
    "\n",
    "    # Layer 4: Fully Connected Input = 120 Output = 84\n",
    "    fc2_W  = tf.Variable(tf.truncated_normal(shape=(120, 84), mean = mu, stddev = sigma))\n",
    "    fc2_b  = tf.Variable(tf.zeros(84))\n",
    "    fc2    = tf.matmul(fc1, fc2_W) + fc2_b\n",
    "    \n",
    "    # Relu activation layer\n",
    "    fc2 = tf.nn.relu(fc2)\n",
    "    \n",
    "    # More dropout to prevent overfitting\n",
    "    fc2 = tf.nn.dropout(fc2, dropout_keep_rate)\n",
    "\n",
    "    # Layer 5: Fully Connected Input = 84 Output = 43\n",
    "    fc3_W  = tf.Variable(tf.truncated_normal(shape=(84, 43), mean = mu, stddev = sigma))\n",
    "    fc3_b  = tf.Variable(tf.zeros(43))\n",
    "    results = tf.matmul(fc2, fc3_W) + fc3_b\n",
    "    \n",
    "    return results"
   ]
  },
  {
   "cell_type": "code",
   "execution_count": 20,
   "metadata": {},
   "outputs": [],
   "source": [
    "#x is a placeholder for a batch of input images\n",
    "x = tf.placeholder(tf.float32, (None, 32, 32, 3))\n",
    "\n",
    "#y is a placeholder for a batch of output labels\n",
    "y = tf.placeholder(tf.int32, (None))\n",
    "\n",
    "#dropout_keep_rate is a placeholder for the keep rate - with a default value of 1.0 (no dropout)\n",
    "dropout_keep_rate = tf.placeholder_with_default(1.0, shape=())\n",
    "\n",
    "#one_hot is the one hot encoded values of y\n",
    "one_hot_y = tf.one_hot(y, 43)"
   ]
  },
  {
   "cell_type": "markdown",
   "metadata": {},
   "source": [
    "### Train, Validate and Test the Model"
   ]
  },
  {
   "cell_type": "markdown",
   "metadata": {},
   "source": [
    "A validation set can be used to assess how well the model is performing. A low accuracy on the training and validation\n",
    "sets imply underfitting. A high accuracy on the training set but low accuracy on the validation set implies overfitting."
   ]
  },
  {
   "cell_type": "code",
   "execution_count": 21,
   "metadata": {},
   "outputs": [],
   "source": [
    "learning_rate = 0.001\n",
    "\n",
    "logits = LeNet(x, dropout_keep_rate)\n",
    "cross_entropy = tf.nn.softmax_cross_entropy_with_logits(labels=one_hot_y, logits=logits)\n",
    "loss_operation = tf.reduce_mean(cross_entropy)\n",
    "optimizer = tf.train.AdamOptimizer(learning_rate=learning_rate)\n",
    "training_operation = optimizer.minimize(loss_operation)"
   ]
  },
  {
   "cell_type": "code",
   "execution_count": 22,
   "metadata": {},
   "outputs": [],
   "source": [
    "#Save \n",
    "correct_prediction = tf.equal(tf.argmax(logits, 1), tf.argmax(one_hot_y, 1))\n",
    "accuracy_operation = tf.reduce_mean(tf.cast(correct_prediction, tf.float32))\n",
    "saver = tf.train.Saver()\n",
    "\n",
    "def evaluate(X_data, y_data):\n",
    "    num_examples = len(X_data)\n",
    "    total_accuracy = 0\n",
    "    sess = tf.get_default_session()\n",
    "    for offset in range(0, num_examples, BATCH_SIZE):\n",
    "        batch_x, batch_y = X_data[offset:offset+BATCH_SIZE], y_data[offset:offset+BATCH_SIZE]\n",
    "        accuracy = sess.run(accuracy_operation, feed_dict={x: batch_x, y: batch_y, dropout_keep_rate: 1.0 })\n",
    "        total_accuracy += (accuracy * len(batch_x))\n",
    "    return total_accuracy / num_examples"
   ]
  },
  {
   "cell_type": "code",
   "execution_count": 23,
   "metadata": {},
   "outputs": [],
   "source": [
    "#Number of epochs and batch size to work with\n",
    "EPOCHS = 50\n",
    "BATCH_SIZE = 128\n",
    "DROPOUT_RATE = 0.5"
   ]
  },
  {
   "cell_type": "code",
   "execution_count": 24,
   "metadata": {
    "scrolled": true
   },
   "outputs": [
    {
     "name": "stdout",
     "output_type": "stream",
     "text": [
      "Training...\n",
      "\n",
      "EPOCH 1 ...\n",
      "Accuracy - Training: 0.611, Validation: 0.548, Test: 0.580\n",
      "\n",
      "EPOCH 2 ...\n",
      "Accuracy - Training: 0.820, Validation: 0.766, Test: 0.778\n",
      "\n",
      "EPOCH 3 ...\n",
      "Accuracy - Training: 0.885, Validation: 0.826, Test: 0.831\n",
      "\n",
      "EPOCH 4 ...\n",
      "Accuracy - Training: 0.925, Validation: 0.861, Test: 0.862\n",
      "\n",
      "EPOCH 5 ...\n",
      "Accuracy - Training: 0.948, Validation: 0.894, Test: 0.887\n",
      "\n",
      "EPOCH 6 ...\n",
      "Accuracy - Training: 0.960, Validation: 0.904, Test: 0.890\n",
      "\n",
      "EPOCH 7 ...\n",
      "Accuracy - Training: 0.970, Validation: 0.916, Test: 0.906\n",
      "\n",
      "EPOCH 8 ...\n",
      "Accuracy - Training: 0.973, Validation: 0.923, Test: 0.913\n",
      "\n",
      "EPOCH 9 ...\n",
      "Accuracy - Training: 0.978, Validation: 0.926, Test: 0.911\n",
      "\n",
      "EPOCH 10 ...\n",
      "Accuracy - Training: 0.981, Validation: 0.938, Test: 0.924\n",
      "\n",
      "EPOCH 11 ...\n",
      "Accuracy - Training: 0.984, Validation: 0.939, Test: 0.920\n",
      "\n",
      "EPOCH 12 ...\n",
      "Accuracy - Training: 0.985, Validation: 0.934, Test: 0.928\n",
      "\n",
      "EPOCH 13 ...\n",
      "Accuracy - Training: 0.986, Validation: 0.934, Test: 0.921\n",
      "\n",
      "EPOCH 14 ...\n",
      "Accuracy - Training: 0.990, Validation: 0.951, Test: 0.933\n",
      "\n",
      "EPOCH 15 ...\n",
      "Accuracy - Training: 0.989, Validation: 0.940, Test: 0.926\n",
      "\n",
      "EPOCH 16 ...\n",
      "Accuracy - Training: 0.991, Validation: 0.944, Test: 0.934\n",
      "\n",
      "EPOCH 17 ...\n",
      "Accuracy - Training: 0.991, Validation: 0.939, Test: 0.933\n",
      "\n",
      "EPOCH 18 ...\n",
      "Accuracy - Training: 0.992, Validation: 0.946, Test: 0.933\n",
      "\n",
      "EPOCH 19 ...\n",
      "Accuracy - Training: 0.993, Validation: 0.946, Test: 0.938\n",
      "\n",
      "EPOCH 20 ...\n",
      "Accuracy - Training: 0.992, Validation: 0.946, Test: 0.934\n",
      "\n",
      "EPOCH 21 ...\n",
      "Accuracy - Training: 0.994, Validation: 0.953, Test: 0.938\n",
      "\n",
      "EPOCH 22 ...\n",
      "Accuracy - Training: 0.994, Validation: 0.946, Test: 0.937\n",
      "\n",
      "EPOCH 23 ...\n",
      "Accuracy - Training: 0.995, Validation: 0.953, Test: 0.939\n",
      "\n",
      "EPOCH 24 ...\n",
      "Accuracy - Training: 0.995, Validation: 0.955, Test: 0.938\n",
      "\n",
      "EPOCH 25 ...\n",
      "Accuracy - Training: 0.994, Validation: 0.952, Test: 0.935\n",
      "\n",
      "EPOCH 26 ...\n",
      "Accuracy - Training: 0.996, Validation: 0.957, Test: 0.941\n",
      "\n",
      "EPOCH 27 ...\n",
      "Accuracy - Training: 0.996, Validation: 0.953, Test: 0.941\n",
      "\n",
      "EPOCH 28 ...\n",
      "Accuracy - Training: 0.996, Validation: 0.956, Test: 0.943\n",
      "\n",
      "EPOCH 29 ...\n",
      "Accuracy - Training: 0.997, Validation: 0.952, Test: 0.942\n",
      "\n",
      "EPOCH 30 ...\n",
      "Accuracy - Training: 0.997, Validation: 0.954, Test: 0.942\n",
      "\n",
      "EPOCH 31 ...\n",
      "Accuracy - Training: 0.997, Validation: 0.956, Test: 0.941\n",
      "\n",
      "EPOCH 32 ...\n",
      "Accuracy - Training: 0.996, Validation: 0.956, Test: 0.944\n",
      "\n",
      "EPOCH 33 ...\n",
      "Accuracy - Training: 0.997, Validation: 0.955, Test: 0.948\n",
      "\n",
      "EPOCH 34 ...\n",
      "Accuracy - Training: 0.997, Validation: 0.959, Test: 0.947\n",
      "\n",
      "EPOCH 35 ...\n",
      "Accuracy - Training: 0.997, Validation: 0.954, Test: 0.946\n",
      "\n",
      "EPOCH 36 ...\n",
      "Accuracy - Training: 0.998, Validation: 0.962, Test: 0.945\n",
      "\n",
      "EPOCH 37 ...\n",
      "Accuracy - Training: 0.998, Validation: 0.956, Test: 0.947\n",
      "\n",
      "EPOCH 38 ...\n",
      "Accuracy - Training: 0.998, Validation: 0.960, Test: 0.946\n",
      "\n",
      "EPOCH 39 ...\n",
      "Accuracy - Training: 0.998, Validation: 0.951, Test: 0.946\n",
      "\n",
      "EPOCH 40 ...\n",
      "Accuracy - Training: 0.998, Validation: 0.955, Test: 0.943\n",
      "\n",
      "EPOCH 41 ...\n",
      "Accuracy - Training: 0.998, Validation: 0.954, Test: 0.947\n",
      "\n",
      "EPOCH 42 ...\n",
      "Accuracy - Training: 0.997, Validation: 0.956, Test: 0.945\n",
      "\n",
      "EPOCH 43 ...\n",
      "Accuracy - Training: 0.997, Validation: 0.957, Test: 0.948\n",
      "\n",
      "EPOCH 44 ...\n",
      "Accuracy - Training: 0.998, Validation: 0.959, Test: 0.949\n",
      "\n",
      "EPOCH 45 ...\n",
      "Accuracy - Training: 0.998, Validation: 0.949, Test: 0.945\n",
      "\n",
      "EPOCH 46 ...\n",
      "Accuracy - Training: 0.998, Validation: 0.954, Test: 0.946\n",
      "\n",
      "EPOCH 47 ...\n",
      "Accuracy - Training: 0.998, Validation: 0.956, Test: 0.947\n",
      "\n",
      "EPOCH 48 ...\n",
      "Accuracy - Training: 0.997, Validation: 0.959, Test: 0.944\n",
      "\n",
      "EPOCH 49 ...\n",
      "Accuracy - Training: 0.999, Validation: 0.958, Test: 0.949\n",
      "\n",
      "EPOCH 50 ...\n",
      "Accuracy - Training: 0.999, Validation: 0.955, Test: 0.948\n",
      "\n",
      "Model saved\n"
     ]
    }
   ],
   "source": [
    "from sklearn.utils import shuffle\n",
    "\n",
    "#Training the model\n",
    "with tf.Session() as sess:\n",
    "    sess.run(tf.global_variables_initializer())\n",
    "    \n",
    "    examples_count = len(X_train)\n",
    "    \n",
    "    print(\"Training...\")\n",
    "    print()\n",
    "    for i in range(EPOCHS):\n",
    "        #Mix up the training set each epoch!\n",
    "        X_train, y_train = shuffle(X_train, y_train)\n",
    "        \n",
    "        #For each batch, run tensorflow on it\n",
    "        for offset in range(0, examples_count, BATCH_SIZE):\n",
    "            #Grab your current batch\n",
    "            end = offset + BATCH_SIZE\n",
    "            batch_x, batch_y = X_train[offset:end], y_train[offset:end]\n",
    "\n",
    "            #Run on batch\n",
    "            sess.run(training_operation, feed_dict={x: batch_x, y: batch_y, dropout_keep_rate: DROPOUT_RATE})\n",
    "            \n",
    "        #Calculate validation accuracy\n",
    "        train_accuracy = evaluate(X_train, y_train)\n",
    "        validation_accuracy = evaluate(X_valid, y_valid)\n",
    "        test_accuracy = evaluate(X_test, y_test)\n",
    "        \n",
    "        #Print\n",
    "        print(\"EPOCH {} ...\".format(i+1))\n",
    "        print('Accuracy - Training: {:.3f}, Validation: {:.3f}, Test: {:.3f}'\\\n",
    "                .format(train_accuracy, validation_accuracy, test_accuracy))\n",
    "        print()\n",
    "        \n",
    "    saver.save(sess, './lenet_traffic_sign')\n",
    "    print(\"Model saved\")"
   ]
  },
  {
   "cell_type": "markdown",
   "metadata": {},
   "source": [
    "---\n",
    "\n",
    "## Step 3: Test a Model on New Images\n",
    "\n",
    "To give yourself more insight into how your model is working, download at least five pictures of German traffic signs from the web and use your model to predict the traffic sign type.\n",
    "\n",
    "You may find `signnames.csv` useful as it contains mappings from the class id (integer) to the actual sign name."
   ]
  },
  {
   "cell_type": "markdown",
   "metadata": {},
   "source": [
    "### Load and Output the Images"
   ]
  },
  {
   "cell_type": "code",
   "execution_count": 25,
   "metadata": {
    "scrolled": true
   },
   "outputs": [
    {
     "data": {
      "image/png": "[encoded data removed]",
      "text/plain": [
       "<matplotlib.figure.Figure at 0x7f81363ffdd8>"
      ]
     },
     "metadata": {},
     "output_type": "display_data"
    },
    {
     "data": {
      "image/png": "[encoded data removed]",
      "text/plain": [
       "<matplotlib.figure.Figure at 0x7f812c5826d8>"
      ]
     },
     "metadata": {},
     "output_type": "display_data"
    },
    {
     "data": {
      "image/png": "[encoded data removed]",
      "text/plain": [
       "<matplotlib.figure.Figure at 0x7f81b9201ac8>"
      ]
     },
     "metadata": {},
     "output_type": "display_data"
    },
    {
     "data": {
      "image/png": "[encoded data removed]",
      "text/plain": [
       "<matplotlib.figure.Figure at 0x7f81b91cf320>"
      ]
     },
     "metadata": {},
     "output_type": "display_data"
    },
    {
     "data": {
      "image/png": "[encoded data removed]",
      "text/plain": [
       "<matplotlib.figure.Figure at 0x7f81b91a19e8>"
      ]
     },
     "metadata": {},
     "output_type": "display_data"
    }
   ],
   "source": [
    "import numpy as np\n",
    "import cv2\n",
    "import glob\n",
    "import matplotlib.image as mpimg\n",
    "\n",
    "X_evaluate = []\n",
    "for i in range(0, 5):\n",
    "    img = cv2.imread(\"./evaluation-signs/{0}.jpg\".format(i))\n",
    "    #Open CV reads BGR - we need to split image data and return to RGB\n",
    "    b,g,r = cv2.split(img)\n",
    "    img = cv2.merge([r,g,b])\n",
    "    #resize the image to 32 x 32\n",
    "    img = cv2.resize(img, (32, 32), interpolation=cv2.INTER_AREA)\n",
    "    X_evaluate.append(img)\n",
    "    \n",
    "y_evaluate = [2, 25, 27, 14, 17] #Manually done\n",
    "\n",
    "for image in X_evaluate:\n",
    "    plt.figure()\n",
    "    plt.imshow(image)"
   ]
  },
  {
   "cell_type": "markdown",
   "metadata": {},
   "source": [
    "### Predict the Sign Type for Each Image"
   ]
  },
  {
   "cell_type": "code",
   "execution_count": 26,
   "metadata": {},
   "outputs": [
    {
     "data": {
      "image/png": "[encoded data removed]",
      "text/plain": [
       "<matplotlib.figure.Figure at 0x7f8135c04860>"
      ]
     },
     "metadata": {},
     "output_type": "display_data"
    },
    {
     "data": {
      "image/png": "[encoded data removed]",
      "text/plain": [
       "<matplotlib.figure.Figure at 0x7f81b9514d30>"
      ]
     },
     "metadata": {},
     "output_type": "display_data"
    },
    {
     "data": {
      "image/png": "[encoded data removed]",
      "text/plain": [
       "<matplotlib.figure.Figure at 0x7f81b94ae208>"
      ]
     },
     "metadata": {},
     "output_type": "display_data"
    },
    {
     "data": {
      "image/png": "[encoded data removed]",
      "text/plain": [
       "<matplotlib.figure.Figure at 0x7f81b9470a20>"
      ]
     },
     "metadata": {},
     "output_type": "display_data"
    },
    {
     "data": {
      "image/png": "[encoded data removed]",
      "text/plain": [
       "<matplotlib.figure.Figure at 0x7f81b9043ef0>"
      ]
     },
     "metadata": {},
     "output_type": "display_data"
    }
   ],
   "source": [
    "# First, we need to normalize all images like we did to training/validation/testing\n",
    "\n",
    "results = []\n",
    "for index, image in enumerate(X_evaluate):\n",
    "#     gray = grayscale(image)\n",
    "#     normal = normalize(gray)\n",
    "    normal = normalize(image)\n",
    "    results.append(normal)\n",
    "X_evaluate = results\n",
    "X_evaluate = reshape(X_evaluate)\n",
    "\n",
    "for image in X_evaluate:\n",
    "    plt.figure()\n",
    "    plt.imshow(image)"
   ]
  },
  {
   "cell_type": "code",
   "execution_count": 34,
   "metadata": {
    "scrolled": false
   },
   "outputs": [
    {
     "name": "stdout",
     "output_type": "stream",
     "text": [
      "INFO:tensorflow:Restoring parameters from ./lenet_traffic_sign\n",
      "Results: [12 25 28 14 12]\n",
      "Expected: [2, 25, 27, 14, 17]\n",
      "Accuracy: 0.4\n"
     ]
    }
   ],
   "source": [
    "# Then we can evaluate on each item\n",
    "\n",
    "with tf.Session() as sess:\n",
    "    saver.restore(sess, './lenet_traffic_sign')\n",
    "    signs_classes = sess.run(tf.argmax(logits, 1), feed_dict={ x: X_evaluate })\n",
    "    \n",
    "print(\"Results:\", signs_classes)\n",
    "print(\"Expected:\", y_evaluate)\n",
    "\n",
    "accuracy = 0\n",
    "for index, result in enumerate(signs_classes):\n",
    "    if result == y_evaluate[index]:\n",
    "        accuracy += 0.2\n",
    "        \n",
    "print(\"Accuracy:\", accuracy)"
   ]
  },
  {
   "cell_type": "markdown",
   "metadata": {},
   "source": [
    "### Output Top 5 Softmax Probabilities For Each Image Found on the Web"
   ]
  },
  {
   "cell_type": "markdown",
   "metadata": {},
   "source": [
    "For each of the new images, print out the model's softmax probabilities to show the **certainty** of the model's predictions (limit the output to the top 5 probabilities for each image). [`tf.nn.top_k`](https://www.tensorflow.org/versions/r0.12/api_docs/python/nn.html#top_k) could prove helpful here. \n",
    "\n",
    "The example below demonstrates how tf.nn.top_k can be used to find the top k predictions for each image.\n",
    "\n",
    "`tf.nn.top_k` will return the values and indices (class ids) of the top k predictions. So if k=3, for each sign, it'll return the 3 largest probabilities (out of a possible 43) and the correspoding class ids.\n",
    "\n",
    "Take this numpy array as an example. The values in the array represent predictions. The array contains softmax probabilities for five candidate images with six possible classes. `tf.nn.top_k` is used to choose the three classes with the highest probability:\n",
    "\n",
    "```\n",
    "# (5, 6) array\n",
    "a = np.array([[ 0.24879643,  0.07032244,  0.12641572,  0.34763842,  0.07893497,\n",
    "         0.12789202],\n",
    "       [ 0.28086119,  0.27569815,  0.08594638,  0.0178669 ,  0.18063401,\n",
    "         0.15899337],\n",
    "       [ 0.26076848,  0.23664738,  0.08020603,  0.07001922,  0.1134371 ,\n",
    "         0.23892179],\n",
    "       [ 0.11943333,  0.29198961,  0.02605103,  0.26234032,  0.1351348 ,\n",
    "         0.16505091],\n",
    "       [ 0.09561176,  0.34396535,  0.0643941 ,  0.16240774,  0.24206137,\n",
    "         0.09155967]])\n",
    "```\n",
    "\n",
    "Running it through `sess.run(tf.nn.top_k(tf.constant(a), k=3))` produces:\n",
    "\n",
    "```\n",
    "TopKV2(values=array([[ 0.34763842,  0.24879643,  0.12789202],\n",
    "       [ 0.28086119,  0.27569815,  0.18063401],\n",
    "       [ 0.26076848,  0.23892179,  0.23664738],\n",
    "       [ 0.29198961,  0.26234032,  0.16505091],\n",
    "       [ 0.34396535,  0.24206137,  0.16240774]]), indices=array([[3, 0, 5],\n",
    "       [0, 1, 4],\n",
    "       [0, 5, 1],\n",
    "       [1, 3, 5],\n",
    "       [1, 4, 3]], dtype=int32))\n",
    "```\n",
    "\n",
    "Looking just at the first row we get `[ 0.34763842,  0.24879643,  0.12789202]`, you can confirm these are the 3 largest probabilities in `a`. You'll also notice `[3, 0, 5]` are the corresponding indices."
   ]
  },
  {
   "cell_type": "code",
   "execution_count": 3,
   "metadata": {
    "collapsed": true
   },
   "outputs": [],
   "source": [
    "### Print out the top five softmax probabilities for the predictions on the German traffic sign images found on the web. \n",
    "### Feel free to use as many code cells as needed."
   ]
  },
  {
   "cell_type": "markdown",
   "metadata": {},
   "source": [
    "### Project Writeup\n",
    "\n",
    "Once you have completed the code implementation, document your results in a project writeup using this [template](https://github.com/udacity/CarND-Traffic-Sign-Classifier-Project/blob/master/writeup_template.md) as a guide. The writeup can be in a markdown or pdf file. "
   ]
  },
  {
   "cell_type": "markdown",
   "metadata": {},
   "source": [
    "> **Note**: Once you have completed all of the code implementations and successfully answered each question above, you may finalize your work by exporting the iPython Notebook as an HTML document. You can do this by using the menu above and navigating to  \\n\",\n",
    "    \"**File -> Download as -> HTML (.html)**. Include the finished document along with this notebook as your submission."
   ]
  },
  {
   "cell_type": "markdown",
   "metadata": {},
   "source": [
    "---\n",
    "\n",
    "## Step 4 (Optional): Visualize the Neural Network's State with Test Images\n",
    "\n",
    " This Section is not required to complete but acts as an additional excersise for understaning the output of a neural network's weights. While neural networks can be a great learning device they are often referred to as a black box. We can understand what the weights of a neural network look like better by plotting their feature maps. After successfully training your neural network you can see what it's feature maps look like by plotting the output of the network's weight layers in response to a test stimuli image. From these plotted feature maps, it's possible to see what characteristics of an image the network finds interesting. For a sign, maybe the inner network feature maps react with high activation to the sign's boundary outline or to the contrast in the sign's painted symbol.\n",
    "\n",
    " Provided for you below is the function code that allows you to get the visualization output of any tensorflow weight layer you want. The inputs to the function should be a stimuli image, one used during training or a new one you provided, and then the tensorflow variable name that represents the layer's state during the training process, for instance if you wanted to see what the [LeNet lab's](https://classroom.udacity.com/nanodegrees/nd013/parts/fbf77062-5703-404e-b60c-95b78b2f3f9e/modules/6df7ae49-c61c-4bb2-a23e-6527e69209ec/lessons/601ae704-1035-4287-8b11-e2c2716217ad/concepts/d4aca031-508f-4e0b-b493-e7b706120f81) feature maps looked like for it's second convolutional layer you could enter conv2 as the tf_activation variable.\n",
    "\n",
    "For an example of what feature map outputs look like, check out NVIDIA's results in their paper [End-to-End Deep Learning for Self-Driving Cars](https://devblogs.nvidia.com/parallelforall/deep-learning-self-driving-cars/) in the section Visualization of internal CNN State. NVIDIA was able to show that their network's inner weights had high activations to road boundary lines by comparing feature maps from an image with a clear path to one without. Try experimenting with a similar test to show that your trained network's weights are looking for interesting features, whether it's looking at differences in feature maps from images with or without a sign, or even what feature maps look like in a trained network vs a completely untrained one on the same sign image.\n",
    "\n",
    "<figure>\n",
    " <img src=\"visualize_cnn.png\" width=\"380\" alt=\"Combined Image\" />\n",
    " <figcaption>\n",
    " <p></p> \n",
    " <p style=\"text-align: center;\"> Your output should look something like this (above)</p> \n",
    " </figcaption>\n",
    "</figure>\n",
    " <p></p> \n"
   ]
  },
  {
   "cell_type": "code",
   "execution_count": null,
   "metadata": {
    "collapsed": true
   },
   "outputs": [],
   "source": [
    "### Visualize your network's feature maps here.\n",
    "### Feel free to use as many code cells as needed.\n",
    "\n",
    "# image_input: the test image being fed into the network to produce the feature maps\n",
    "# tf_activation: should be a tf variable name used during your training procedure that represents the calculated state of a specific weight layer\n",
    "# activation_min/max: can be used to view the activation contrast in more detail, by default matplot sets min and max to the actual min and max values of the output\n",
    "# plt_num: used to plot out multiple different weight feature map sets on the same block, just extend the plt number for each new feature map entry\n",
    "\n",
    "def outputFeatureMap(image_input, tf_activation, activation_min=-1, activation_max=-1 ,plt_num=1):\n",
    "    # Here make sure to preprocess your image_input in a way your network expects\n",
    "    # with size, normalization, ect if needed\n",
    "    # image_input =\n",
    "    # Note: x should be the same name as your network's tensorflow data placeholder variable\n",
    "    # If you get an error tf_activation is not defined it may be having trouble accessing the variable from inside a function\n",
    "    activation = tf_activation.eval(session=sess,feed_dict={x : image_input})\n",
    "    featuremaps = activation.shape[3]\n",
    "    plt.figure(plt_num, figsize=(15,15))\n",
    "    for featuremap in range(featuremaps):\n",
    "        plt.subplot(6,8, featuremap+1) # sets the number of feature maps to show on each row and column\n",
    "        plt.title('FeatureMap ' + str(featuremap)) # displays the feature map number\n",
    "        if activation_min != -1 & activation_max != -1:\n",
    "            plt.imshow(activation[0,:,:, featuremap], interpolation=\"nearest\", vmin =activation_min, vmax=activation_max, cmap=\"gray\")\n",
    "        elif activation_max != -1:\n",
    "            plt.imshow(activation[0,:,:, featuremap], interpolation=\"nearest\", vmax=activation_max, cmap=\"gray\")\n",
    "        elif activation_min !=-1:\n",
    "            plt.imshow(activation[0,:,:, featuremap], interpolation=\"nearest\", vmin=activation_min, cmap=\"gray\")\n",
    "        else:\n",
    "            plt.imshow(activation[0,:,:, featuremap], interpolation=\"nearest\", cmap=\"gray\")"
   ]
  }
 ],
 "metadata": {
  "anaconda-cloud": {},
  "kernelspec": {
   "display_name": "Python 3",
   "language": "python",
   "name": "python3"
  },
  "language_info": {
   "codemirror_mode": {
    "name": "ipython",
    "version": 3
   },
   "file_extension": ".py",
   "mimetype": "text/x-python",
   "name": "python",
   "nbconvert_exporter": "python",
   "pygments_lexer": "ipython3",
   "version": "3.5.2"
  },
  "widgets": {
   "state": {},
   "version": "1.1.2"
  }
 },
 "nbformat": 4,
 "nbformat_minor": 1
}
